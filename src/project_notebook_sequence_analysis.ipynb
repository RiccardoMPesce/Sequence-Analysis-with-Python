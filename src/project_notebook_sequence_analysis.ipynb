{
 "cells": [
  {
   "cell_type": "markdown",
   "metadata": {},
   "source": [
    "# Sequence Analysis with Python\n",
    "\n",
    "Author: Riccardo Maria Pesce (riccardompesce@gmail.com)\n",
    "\n",
    "Tutor: Veli Makinen (veli.makinen@helsinki.fi)"
   ]
  },
  {
   "cell_type": "markdown",
   "metadata": {},
   "source": [
    "The following assignments introduce applications of hashing with ```dict()``` primitive of Python. While doing so, a rudimentary introduction to biological sequences is given. \n",
    "This framework is then enhanced with probabilities, leading to routines to generate random sequences under some constraints, including a general concept of *Markov-chains*. All these components illustrate the usage of ```dict()```, but at the same time introduce some other computational routines to efficiently deal with probabilities.   \n",
    "The function ```collections.defaultdict``` can be useful.\n",
    "\n",
    "Below are some \"suggested\" imports. Feel free to use and modify these, or not. Generally it's good practice to keep most or all imports in one place. Typically very close to the start of notebooks."
   ]
  },
  {
   "cell_type": "code",
   "execution_count": 58,
   "metadata": {
    "pycharm": {
     "is_executing": true
    }
   },
   "outputs": [],
   "source": [
    "from collections import defaultdict\n",
    "from itertools import product\n",
    "\n",
    "import numpy as np\n",
    "from numpy.random import choice"
   ]
  },
  {
   "cell_type": "markdown",
   "metadata": {},
   "source": [
    "The automated TMC tests do not test cell outputs. These are intended to be evaluated in the peer reviews. So it is still be a good idea to make the outputs as clear and informative as possible.\n",
    "\n",
    "To keep TMC tests running as well as possible it is recommended to keep global variable assignments in the notebook to a minimum to avoid potential name clashes and confusion. Additionally you should keep all actual code exection in main guards to keep the test running smoothly. If you run [check_sequence.py](https://raw.githubusercontent.com/saskeli/data-analysis-with-python-summer-2019/master/check_outputs.py) in the `part07-e01_sequence_analysis` folder, the script should finish very quickly and optimally produce no output.\n",
    "\n",
    "If you download data from the internet during execution (codon usage table), the parts where downloading is done should not work if you decide to submit to the tmc server. Local tests should work fine."
   ]
  },
  {
   "cell_type": "markdown",
   "metadata": {},
   "source": [
    "## DNA and RNA\n",
    "\n",
    "A DNA molecule consist, in principle, of a chain of smaller molecules. These smaller molecules have some common basic components (bases) that repeat. For our purposes it is sufficient to know that these bases are nucleotides adenine, cytosine, guanine, and thymine with abbreviations ```A```, ```C```, ```G```, and ```T```. Given a *DNA sequence* e.g. ```ACGATGAGGCTCAT```, one can reverse engineer (with negligible loss of information) the corresponding DNA molecule.\n",
    "\n",
    "Parts of a DNA molecule can *transcribe* into an RNA molecule. In this process, thymine gets replaced by uracil (```U```). \n",
    "\n",
    "\n",
    "1. Write a function ```dna_to_rna``` to convert a given DNA sequence $s$ into an RNA sequence. For the sake of exercise, use ```dict()``` to store the symbol to symbol encoding rules. Create a program to test your function."
   ]
  },
  {
   "cell_type": "code",
   "execution_count": 59,
   "metadata": {
    "pycharm": {
     "is_executing": true
    }
   },
   "outputs": [
    {
     "output_type": "stream",
     "name": "stdout",
     "text": [
      "AACGUGAUUUC\n"
     ]
    }
   ],
   "source": [
    "def dna_to_rna(s):\n",
    "    to_dict = {\"T\": \"U\", \"A\": \"A\", \"G\": \"G\", \"C\": \"C\"}\n",
    "\n",
    "    return \"\".join([to_dict[ch] for ch in s])\n",
    "    \n",
    "if __name__ == '__main__':\n",
    "    print(dna_to_rna(\"AACGTGATTTC\"))"
   ]
  },
  {
   "cell_type": "markdown",
   "metadata": {},
   "source": [
    "### Idea of solution\n",
    "\n",
    "Trascribing a DNA sequence into RNA can be achieved by replacing each \"T\" (thymine) with \"U\" (uracil). As the problem requested, let's use a `dict` to store DNA-RNA correspondences, and with the aid of the `join` method, we can build up the RNA string, by first translating each single character in the `s` string (which represents \n",
    "our DNA sequence) into the corresponding character of the \n",
    "resulting RNA sequence."
   ]
  },
  {
   "cell_type": "markdown",
   "metadata": {},
   "source": [
    "### Discussion\n",
    "\n",
    "Our function works as expected and this can also be seen either with the unit tests or by using more well known and \n",
    "established DNA-to-RNA converters out there."
   ]
  },
  {
   "cell_type": "markdown",
   "metadata": {},
   "source": [
    "## Proteins\n",
    "\n",
    "Like DNA and RNA, protein molecule can be interpreted as a chain of smaller molecules, where the bases are now amino acids. RNA molecule may *translate* into a protein molecule, but instead of base by base, three bases of RNA correspond to one base of protein. That is, RNA sequence is read triplet (called codon) at a time. \n",
    "\n",
    "2. Consider the codon to amino acid conversion table in http://www.kazusa.or.jp/codon/cgi-bin/showcodon.cgi?species=9606&aa=1&style=N. Write a function ```get_dict``` to read the table into a ```dict()```, such that for each RNA sequence of length 3, say $\\texttt{AGU}$, the hash table stores the conversion rule to the corresponding amino acid. You may store the html page to your local src directory,\n",
    "and parse that file."
   ]
  },
  {
   "cell_type": "code",
   "execution_count": 60,
   "metadata": {
    "pycharm": {
     "is_executing": true
    }
   },
   "outputs": [
    {
     "output_type": "stream",
     "name": "stdout",
     "text": [
      "{'UUU': 'F', 'UCU': 'S', 'UAU': 'Y', 'UGU': 'C', 'UUC': 'F', 'UCC': 'S', 'UAC': 'Y', 'UGC': 'C', 'UUA': 'L', 'UCA': 'S', 'UAA': '*', 'UGA': '*', 'UUG': 'L', 'UCG': 'S', 'UAG': '*', 'UGG': 'W', 'CUU': 'L', 'CCU': 'P', 'CAU': 'H', 'CGU': 'R', 'CUC': 'L', 'CCC': 'P', 'CAC': 'H', 'CGC': 'R', 'CUA': 'L', 'CCA': 'P', 'CAA': 'Q', 'CGA': 'R', 'CUG': 'L', 'CCG': 'P', 'CAG': 'Q', 'CGG': 'R', 'AUU': 'I', 'ACU': 'T', 'AAU': 'N', 'AGU': 'S', 'AUC': 'I', 'ACC': 'T', 'AAC': 'N', 'AGC': 'S', 'AUA': 'I', 'ACA': 'T', 'AAA': 'K', 'AGA': 'R', 'AUG': 'M', 'ACG': 'T', 'AAG': 'K', 'AGG': 'R', 'GUU': 'V', 'GCU': 'A', 'GAU': 'D', 'GGU': 'G', 'GUC': 'V', 'GCC': 'A', 'GAC': 'D', 'GGC': 'G', 'GUA': 'V', 'GCA': 'A', 'GAA': 'E', 'GGA': 'G', 'GUG': 'V', 'GCG': 'A', 'GAG': 'E', 'GGG': 'G'}\n"
     ]
    }
   ],
   "source": [
    "# Importing necessary libraries to implement get_dict()\n",
    "import urllib, re\n",
    "\n",
    "from bs4 import BeautifulSoup\n",
    "\n",
    "def save_html_page(url):\n",
    "    \"\"\"\n",
    "    Given an url, it download a web page locally (in html format)\n",
    "    \"\"\"\n",
    "    urllib.request.urlretrieve(url, \"page.html\")\n",
    "\n",
    "def make_dict():\n",
    "    # Parsing the data and turning it into a BeautifulSoup object\n",
    "    soup = BeautifulSoup(open(\"page.html\"), \"html.parser\")\n",
    "\n",
    "    # Parsing the actual content we are interested, i.e. the table between <pre></pre> tags\n",
    "    pre_content = soup.find(\"pre\")\n",
    "    text_content = pre_content.text.strip()\n",
    "\n",
    "    # Extracting the informations we are interested in\n",
    "    dna_seqs = re.findall(r\"[A-Z][A-Z][A-Z]\", text_content)\n",
    "    amino_acids = re.findall(r\" ([A-Z]|[*]) \", text_content)\n",
    "\n",
    "    # Returning the dict result\n",
    "    return dict(zip(dna_seqs, amino_acids))\n",
    "\n",
    "def get_dict():\n",
    "    return {'UUU': 'F', 'UCU': 'S', 'UAU': 'Y', 'UGU': 'C', 'UUC': 'F', 'UCC': 'S', 'UAC': 'Y', 'UGC': 'C', 'UUA': 'L', 'UCA': 'S', 'UAA': '*', 'UGA': '*', 'UUG': 'L', 'UCG': 'S', 'UAG': '*', 'UGG': 'W', 'CUU': 'L', 'CCU': 'P', 'CAU': 'H', 'CGU': 'R', 'CUC': 'L', 'CCC': 'P', 'CAC': 'H', 'CGC': 'R', 'CUA': 'L', 'CCA': 'P', 'CAA': 'Q', 'CGA': 'R', 'CUG': 'L', 'CCG': 'P', 'CAG': 'Q', 'CGG': 'R', 'AUU': 'I', 'ACU': 'T', 'AAU': 'N', 'AGU': 'S', 'AUC': 'I', 'ACC': 'T', 'AAC': 'N', 'AGC': 'S', 'AUA': 'I', 'ACA': 'T', 'AAA': 'K', 'AGA': 'R', 'AUG': 'M', 'ACG': 'T', 'AAG': 'K', 'AGG': 'R', 'GUU': 'V', 'GCU': 'A', 'GAU': 'D', 'GGU': 'G', 'GUC': 'V', 'GCC': 'A', 'GAC': 'D', 'GGC': 'G', 'GUA': 'V', 'GCA': 'A', 'GAA': 'E', 'GGA': 'G', 'GUG': 'V', 'GCG': 'A', 'GAG': 'E', 'GGG': 'G'}\n",
    "    \n",
    "if __name__ == '__main__':\n",
    "    file_name = \"page.html\"\n",
    "    url = \"http://www.kazusa.or.jp/codon/cgi-bin/showcodon.cgi?species=9606&aa=1&style=N\"\n",
    "\n",
    "    # Run once to download the web page locally\n",
    "    # save_html_page(url)\n",
    "\n",
    "    print(make_dict())"
   ]
  },
  {
   "cell_type": "markdown",
   "metadata": {},
   "source": [
    "### Idea of solution\n",
    "The task could be accomplished in different ways:\n",
    "- By using directly a request object within the `BeautifulSoup` class. \n",
    "- By using a web page previously downloaded locally.\n",
    "\n",
    "The approach I chose was the second, even though the first was in our first iteration. After making the parsing and creating the dictionary with the conversion rules, I printed the result, copied the final dictionary and returned it as a literal in the `get_dict()` module, so as to keep it compliant with the tests and not to make any request from within the internal server."
   ]
  },
  {
   "cell_type": "markdown",
   "metadata": {},
   "source": [
    "### Discussion\n",
    "The solution works as expected. It would have been better if we could make an \"on-demand\" solution which scrapes the page on request and returns the dictionary from within the module `get_dict()` itself. However, that would violate a web-scraping etiquette and good practice which discourages making too many requests to the server: it would cause too much useless traffic. While we could make a lazy execution, that is, requesting the page only once, cache it, and use the local copy as our object, these techniques are out of the scope of this project, but can be found in later projects where I would integrate requests to web API endpoints to gather data. "
   ]
  },
  {
   "cell_type": "markdown",
   "metadata": {},
   "source": [
    "3. Use the same conversion table as above, but now write function `get_dict_list` to read the table into a `dict()`, such that for each amino acid the hash table stores the list of codons encoding it.    "
   ]
  },
  {
   "cell_type": "code",
   "execution_count": 61,
   "metadata": {
    "pycharm": {
     "is_executing": true
    }
   },
   "outputs": [
    {
     "output_type": "stream",
     "name": "stdout",
     "text": [
      "{'F': ['UUU', 'UUC'], 'S': ['UCU', 'UCC', 'UCA', 'UCG', 'AGU', 'AGC'], 'Y': ['UAU', 'UAC'], 'C': ['UGU', 'UGC'], 'L': ['UUA', 'UUG', 'CUU', 'CUC', 'CUA', 'CUG'], '*': ['UAA', 'UGA', 'UAG'], 'W': ['UGG'], 'P': ['CCU', 'CCC', 'CCA', 'CCG'], 'H': ['CAU', 'CAC'], 'R': ['CGU', 'CGC', 'CGA', 'CGG', 'AGA', 'AGG'], 'Q': ['CAA', 'CAG'], 'I': ['AUU', 'AUC', 'AUA'], 'T': ['ACU', 'ACC', 'ACA', 'ACG'], 'N': ['AAU', 'AAC'], 'K': ['AAA', 'AAG'], 'M': ['AUG'], 'V': ['GUU', 'GUC', 'GUA', 'GUG'], 'A': ['GCU', 'GCC', 'GCA', 'GCG'], 'D': ['GAU', 'GAC'], 'G': ['GGU', 'GGC', 'GGA', 'GGG'], 'E': ['GAA', 'GAG']}\n"
     ]
    }
   ],
   "source": [
    "def get_dict_list():\n",
    "    d = get_dict()\n",
    "    reverse = {}\n",
    "\n",
    "    for v, k in d.items():\n",
    "        if k not in reverse.keys():\n",
    "            reverse[k] = []\n",
    "\n",
    "        reverse[k].append(v)\n",
    "\n",
    "    return reverse\n",
    "    \n",
    "if __name__ == '__main__':\n",
    "    aa_to_codons = get_dict_list()\n",
    "    print(aa_to_codons)"
   ]
  },
  {
   "cell_type": "markdown",
   "metadata": {},
   "source": [
    "### Idea of solution\n",
    "\n",
    "The idea is simple: reversing the dictionary, but each value will be a list, since an amino acid can be a translation of different codons. The code is quite clear: for each key-value pair, if value is not present in the dictionary we want to return, we create that entry with an empty list which will later be filled."
   ]
  },
  {
   "cell_type": "markdown",
   "metadata": {},
   "source": [
    "### Discussion\n",
    "\n",
    "The succesful tests show us the code works as intended."
   ]
  },
  {
   "cell_type": "markdown",
   "metadata": {},
   "source": [
    "With the conversion tables at hand, the following should be trivial to solve.\n",
    "\n",
    "4. Fill in function ```rna_to_prot``` in the stub solution to convert a given DNA sequence $s$ into a protein sequence. \n",
    "You may use the dictionaries from exercises 2 and 3. You can test your program with `ATGATATCATCGACGATGTAG`."
   ]
  },
  {
   "cell_type": "code",
   "execution_count": 62,
   "metadata": {},
   "outputs": [
    {
     "output_type": "stream",
     "name": "stdout",
     "text": [
      "MISSTM*\n"
     ]
    }
   ],
   "source": [
    "\n",
    "def rna_to_prot(s):\n",
    "    d = get_dict()\n",
    "\n",
    "    # Let's split s every 3 character so we can use our dict to convert each single sequence, and then we will join it\n",
    "    splitted = [s[i:i + 3] for i in range(0, len(s), 3)]\n",
    "\n",
    "    return \"\".join([d[seq] for seq in splitted])\n",
    "\n",
    "def dna_to_prot(s):\n",
    "    return rna_to_prot(dna_to_rna(s))\n",
    "\n",
    "if __name__ == '__main__':\n",
    "    print(dna_to_prot(\"ATGATATCATCGACGATGTAG\"))"
   ]
  },
  {
   "cell_type": "markdown",
   "metadata": {},
   "source": [
    "### Idea of solution\n",
    "\n",
    "The idea is to split the sequence `s` into sub-sequences of length 3 each, and map these sub-sequences using the dictionary returned by `get_dict()` into proteins."
   ]
  },
  {
   "cell_type": "markdown",
   "metadata": {},
   "source": [
    "### Discussion\n",
    "\n",
    "The code does work and no other thing is worth adding at this point."
   ]
  },
  {
   "cell_type": "markdown",
   "metadata": {},
   "source": [
    "You may notice that there are $4^3=64$ different codons, but only 20 amino acids. That is, some triplets encode the same amino acid.  "
   ]
  },
  {
   "cell_type": "markdown",
   "metadata": {},
   "source": [
    "## Reverse translation\n",
    "\n",
    "It has been observed that among the codons coding the same amino acid, some are more frequent than others. These frequencies can be converted to probabilities. E.g. consider codons `AUU`, `AUC`, and `AUA` that code for amino acid isoleucine.\n",
    "If they are observed, say, 36, 47, 17 times, respectively, to code isoleucine in a dataset, the probability that a random such event is `AUU` $\\to$ isoleucine is 36/100.\n",
    "\n",
    "This phenomenon is called *codon adaptation*, and for our purposes it works as a good introduction to generation of random sequences under constraints.   \n",
    "\n",
    "5. Consider the codon adaptation frequencies in http://www.kazusa.or.jp/codon/cgi-bin/showcodon.cgi?species=9606&aa=1&style=N and read them into a ```dict()```, such that for each RNA sequence of length 3, say `AGU`, the hash table stores the probability of that codon among codons encoding the same amino acid.\n",
    "Put your solution in the ```get_probabability_dict``` function."
   ]
  },
  {
   "cell_type": "code",
   "execution_count": 63,
   "metadata": {},
   "outputs": [
    {
     "output_type": "stream",
     "name": "stdout",
     "text": [
      "AAA: 0.434049\tAAC: 0.529633\tAAG: 0.565951\tAAU: 0.470367\tACA: 0.284188\tACC: 0.355232\nACG: 0.113812\tACU: 0.246769\tAGA: 0.214658\tAGC: 0.239938\tAGG: 0.211091\tAGU: 0.149602\nAUA: 0.169062\tAUC: 0.469866\tAUG: 1.000000\tAUU: 0.361072\tCAA: 0.265017\tCAC: 0.581485\nCAG: 0.734983\tCAU: 0.418515\tCCA: 0.276603\tCCC: 0.323470\tCCG: 0.113196\tCCU: 0.286731\nCGA: 0.108812\tCGC: 0.183777\tCGG: 0.201554\tCGU: 0.080108\tCUA: 0.071380\tCUC: 0.195577\nCUG: 0.395702\tCUU: 0.131716\tGAA: 0.422453\tGAC: 0.535458\tGAG: 0.577547\tGAU: 0.464542\nGCA: 0.228121\tGCC: 0.399781\tGCG: 0.106176\tGCU: 0.265922\tGGA: 0.249922\tGGC: 0.337109\nGGG: 0.249882\tGGU: 0.163087\tGUA: 0.116577\tGUC: 0.238306\tGUG: 0.463346\tGUU: 0.181770\nUAA: 0.297019\tUAC: 0.556662\tUAG: 0.236738\tUAU: 0.443338\tUCA: 0.150517\tUCC: 0.217960\nUCG: 0.054398\tUCU: 0.187586\tUGA: 0.466243\tUGC: 0.543843\tUGG: 1.000000\tUGU: 0.456157\nUUA: 0.076568\tUUC: 0.535866\tUUG: 0.129058\tUUU: 0.464134\n"
     ]
    }
   ],
   "source": [
    "import pandas as pd\n",
    "\n",
    "def make_probability_dict():\n",
    "    # Parsing the data and turning it into a BeautifulSoup object\n",
    "    page_url = \"http://www.kazusa.or.jp/codon/cgi-bin/showcodon.cgi?species=9606&aa=1&style=N\"\n",
    "\n",
    "    page = urllib.request.urlopen(page_url)\n",
    "    soup = BeautifulSoup(page, \"html.parser\")\n",
    "\n",
    "    # Parsing the actual content we are interested, i.e. the table between <pre></pre> tags\n",
    "    pre_content = soup.find(\"pre\")\n",
    "    text_content = pre_content.text.strip()\n",
    "\n",
    "    # Extracting the informations we are interested in\n",
    "    dna_seqs = re.findall(r\"[A-Z][A-Z][A-Z]\", text_content)\n",
    "    aa = re.findall(r\" ([A-Z|\\*]) \", text_content)\n",
    "    fract = re.findall(r\"[A-Z|\\*] (\\d\\.\\d+)\", text_content)\n",
    "    freqs = re.findall(r\" (\\d+\\.\\d) \\(\", text_content)\n",
    "    nums = re.findall(r\"\\(\\s*(\\d+)\\)\", text_content)\n",
    "\n",
    "    # Turning fract and freq to numerical values\n",
    "    fract = [float(f) for f in fract]\n",
    "    freqs = [float(f) for f in freqs]\n",
    "    nums = [float(f) for f in nums]\n",
    "\n",
    "    dna_to_nums = dict(zip(dna_seqs, nums))\n",
    "    aa_to_nums = pd.DataFrame(zip(aa, nums), columns=[\"aa\", \"nums\"]).groupby(\"aa\").nums.sum().to_dict()\n",
    "    dna_to_aa = dict(zip(dna_seqs, aa))\n",
    "    \n",
    "    probs = {}\n",
    "    for dna, num in dna_to_nums.items():\n",
    "        associated_aa = dna_to_aa[dna]\n",
    "        total_by_aa = aa_to_nums[associated_aa]\n",
    "        probs[dna] = num / total_by_aa\n",
    "\n",
    "    return probs\n",
    "\n",
    "def get_probabability_dict():\n",
    "    return {'UUU': 0.4641342698782968, 'UCU': 0.18758584014344437, 'UAU': 0.443338109266921, 'UGU': 0.45615733050366836, 'UUC': 0.5358657301217032, 'UCC': 0.21795953165920925, 'UAC': 0.5566618907330789, 'UGC': 0.5438426694963316, 'UUA': 0.07656764558436285, 'UCA': 0.15051714801827132, 'UAA': 0.29701911804823383, 'UGA': 0.46624296805302623, 'UUG': 0.1290578537068707, 'UCG': 0.05439771371883908, 'UAG': 0.23673791389873997, 'UGG': 1.0, 'CUU': 0.13171591206484023, 'CCU': 0.2867313296570278, 'CAU': 0.4185152128433691, 'CGU': 0.08010752804820104, 'CUC': 0.1955768259144855, 'CCC': 0.3234703981288551, 'CAC': 0.5814847871566309, 'CGC': 0.18377662978978224, 'CUA': 0.0713801723134756, 'CCA': 0.2766025276376192, 'CAA': 0.26501675921017337, 'CGA': 0.1088124833207855, 'CUG': 0.39570159041596514, 'CCG': 0.11319574457649788, 'CAG': 0.7349832407898266, 'CGG': 0.20155434006721587, 'AUU': 0.36107219301206106, 'ACU': 0.2467688440166039, 'AAU': 0.4703669907468028, 'AGU': 0.14960182300967595, 'AUC': 0.4698662895003286, 'ACC': 0.35523154074391966, 'AAC': 0.5296330092531971, 'AGC': 0.23993794345056002, 'AUA': 0.16906151748761036, 'ACA': 0.28418772983891855, 'AAA': 0.43404935110207155, 'AGA': 0.21465774794262568, 'AUG': 1.0, 'ACG': 0.11381188540055791, 'AAG': 0.5659506488979285, 'AGG': 0.21109127083138968, 'GUU': 0.18177011180348712, 'GCU': 0.26592161421413735, 'GAU': 0.4645424191930427, 'GGU': 0.1630865131632947, 'GUC': 0.23830637956135173, 'GCC': 0.39978112134364696, 'GAC': 0.5354575808069573, 'GGC': 0.33710935809444503, 'GUA': 0.11657741053350681, 'GCA': 0.2281212631716276, 'GAA': 0.42245266280361615, 'GGA': 0.24992165149690412, 'GUG': 0.46334609810165434, 'GCG': 0.10617600127058811, 'GAG': 0.5775473371963838, 'GGG': 0.24988247724535617}\n",
    "    \n",
    "if __name__ == '__main__':\n",
    "    codon_to_prob = make_probability_dict()\n",
    "    items = sorted(codon_to_prob.items(), key=lambda x: x[0])\n",
    "    for i in range(1 + len(items)//6):\n",
    "        print(\"\\t\".join(\n",
    "            f\"{k}: {v:.6f}\"\n",
    "            for k, v in items[i*6:6+i*6]\n",
    "        ))"
   ]
  },
  {
   "cell_type": "markdown",
   "metadata": {},
   "source": [
    "### Idea of solution\n",
    "\n",
    "The function will be similar to `get_dict()` with the only difference being the field we are parsing this time, which is the frequency in the fourth column. We will map the parsed probabilities into `float`, since they're initially parsed into strings.\n",
    "The function will then calculate the relative (for each amino-acid) percentages one the normalized frequencies. Once that is finished, the probabilities are calculated for each amino."
   ]
  },
  {
   "cell_type": "markdown",
   "metadata": {},
   "source": [
    "### Discussion\n",
    "\n",
    "As we can see from the output, the function worked perfectly."
   ]
  },
  {
   "cell_type": "markdown",
   "metadata": {},
   "source": [
    "Now you should have everything in place to easily solve the following.\n",
    "\n",
    "\n",
    "6. Write a class ```ProteinToMaxRNA``` with a ```convert``` method which converts a protein sequence into the most likely RNA sequence to be the source of this protein. Run your program with `LTPIQNRA`."
   ]
  },
  {
   "cell_type": "code",
   "execution_count": 64,
   "metadata": {},
   "outputs": [
    {
     "output_type": "stream",
     "name": "stdout",
     "text": [
      "CUGACCCCCAUCCAGAACAGAGCC\n"
     ]
    }
   ],
   "source": [
    "class ProteinToMaxRNA:\n",
    "    \n",
    "    def __init__(self):\n",
    "        pass\n",
    "\n",
    "    def convert(self, s):\n",
    "        prob_dict = get_probabability_dict()\n",
    "        prot_to_rna = get_dict_list()\n",
    "\n",
    "        most_prob_seq = []\n",
    "\n",
    "        for prot in s:\n",
    "            prob_seqs = prot_to_rna[prot]\n",
    "            most_prob = prob_seqs[0]\n",
    "\n",
    "            for seq in prob_seqs:\n",
    "                if prob_dict[seq] > prob_dict[most_prob]:\n",
    "                    most_prob = seq\n",
    "\n",
    "            most_prob_seq.append(most_prob)\n",
    "\n",
    "        return \"\".join(most_prob_seq)\n",
    "\n",
    "\n",
    "if __name__ == '__main__':\n",
    "    protein_to_rna = ProteinToMaxRNA()\n",
    "    print(protein_to_rna.convert(\"LTPIQNRA\"))"
   ]
  },
  {
   "cell_type": "markdown",
   "metadata": {},
   "source": [
    "### Idea of solution\n",
    "\n",
    "The class method `convert()` maps each protein sequence into the most likely RNA sequence by first getting the probabilities and protein-to-rna dictionaries, and then for each protein in the sequence s, we get the one with the highest probability."
   ]
  },
  {
   "cell_type": "markdown",
   "metadata": {},
   "source": [
    "### Discussion\n",
    "\n",
    "Using the [translation tool](http://biomodel.uah.es/en/lab/cybertory/analysis/trans.htm), we translate the result given by the function, and we can see it is exactly the protein sequence given.\n",
    "\n"
   ]
  },
  {
   "cell_type": "markdown",
   "metadata": {},
   "source": [
    "Now we are almost ready to produce random RNA sequences that code a given protein sequence. For this, we need a subroutine to *sample from a probability distribution*. Consider our earlier example of probabilities 36/100, 47/100, and 17/100 for `AUU`, `AUC`, and `AUA`, respectively. \n",
    "Let us assume we have a random number generator ```random()``` that returns a random number from interval $[0,1)$. We may then partition the unit interval according to cumulative probabilities to $[0,36/100), [36/100,83/100), [83/100,1)$, respectively. Depending which interval the number ```random()``` hits, we select the codon accordingly.\n",
    "\n",
    "7. Write a function ```random_event``` that chooses a random event, given a probability distribution (set of events whose probabilities sum to 1).\n",
    "You can use function ```random.uniform``` to produce values uniformly at random from the range $[0,1)$. The distribution should be given to your function as a dictionary from events to their probabilities."
   ]
  },
  {
   "cell_type": "code",
   "execution_count": 65,
   "metadata": {},
   "outputs": [
    {
     "output_type": "stream",
     "name": "stdout",
     "text": [
      "A, C, T, A, C, C, T, C, T, T, A, T\n"
     ]
    }
   ],
   "source": [
    "def random_event(dist):\n",
    "    \"\"\"\n",
    "    Takes as input a dictionary from events to their probabilities.\n",
    "    Return a random event sampled according to the given distribution.\n",
    "    The probabilities must sum to 1.0\n",
    "    \"\"\"\n",
    "    cum_dist = {}\n",
    "    start = 0.00\n",
    "\n",
    "    for event, prob in dist.items():\n",
    "        cum_dist[event] = [start, prob + start]\n",
    "        start = start + prob\n",
    "\n",
    "    r = np.random.uniform()\n",
    "\n",
    "    for event in cum_dist.keys():\n",
    "        if r >= cum_dist[event][0] and r < cum_dist[event][1]:\n",
    "            return event\n",
    "\n",
    "    \n",
    "\n",
    "if __name__ == '__main__':\n",
    "    distribution = dict(zip(\"ACGT\", [0.10, 0.35, 0.15, 0.40]))\n",
    "    print(\", \".join(random_event(distribution) for _ in range(12)))"
   ]
  },
  {
   "cell_type": "markdown",
   "metadata": {},
   "source": [
    "### Idea of solution\n",
    "\n",
    "The function will first calculate the cumulative distribution, including for each protein the beginning and the end of the \"bin\" to which such protein belongs to. Then samples uniformly a random number from 0 to 1, and check in which bin it falls, returning the relative protein."
   ]
  },
  {
   "cell_type": "markdown",
   "metadata": {},
   "source": [
    "### Discussion\n",
    "\n",
    "The function samples according to the proteins own probabilities, therefore it is correct"
   ]
  },
  {
   "cell_type": "markdown",
   "metadata": {},
   "source": [
    "With this general routine, the following should be easy to solve.\n",
    " \n",
    "8. Write a class ```ProteinToRandomRNA``` to produce a random RNA sequence encoding the input protein sequence according to the input codon adaptation probabilities. The actual conversion is done through the ```convert``` method. Run your program with `LTPIQNRA`."
   ]
  },
  {
   "cell_type": "code",
   "execution_count": 66,
   "metadata": {},
   "outputs": [
    {
     "output_type": "stream",
     "name": "stdout",
     "text": [
      "CUCACGCCUAUUCAGAACCGAGCU\n"
     ]
    }
   ],
   "source": [
    "class ProteinToRandomRNA(object):\n",
    "    \n",
    "    def __init__(self):\n",
    "        pass\n",
    "\n",
    "    def convert(self, s):\n",
    "        probs_dict = get_probabability_dict()\n",
    "        prot_to_rna = get_dict_list()\n",
    "\n",
    "        rand_seq = []\n",
    "\n",
    "        for prot in s:\n",
    "            translations = prot_to_rna[prot]\n",
    "            probs = [probs_dict[seq] for seq in translations]\n",
    "            \n",
    "            dist = dict(zip(translations, probs))\n",
    "\n",
    "            rand_e = random_event(dist)\n",
    "\n",
    "            if rand_e == None:\n",
    "                print(s)\n",
    "                print(dist)\n",
    "\n",
    "            rand_seq.append(rand_e)\n",
    "\n",
    "        return \"\".join(rand_seq)\n",
    "        \n",
    "if __name__ == '__main__':\n",
    "    protein_to_random_codons = ProteinToRandomRNA()\n",
    "    print(protein_to_random_codons.convert(\"LTPIQNRA\"))"
   ]
  },
  {
   "cell_type": "markdown",
   "metadata": {},
   "source": [
    "### Idea of solution\n",
    "\n",
    "The method is similiar to the previous one, with the sole exception that instead of using the most probable RNA, the function uses the previously defined random event to sample from the cumulative distribution of each RNA."
   ]
  },
  {
   "cell_type": "markdown",
   "metadata": {},
   "source": [
    "### Discussion\n",
    "\n",
    "The function does the correct sampling, as also assessed by the unit tests."
   ]
  },
  {
   "cell_type": "markdown",
   "metadata": {},
   "source": [
    "## Generating DNA sequences with higher-order Markov chains\n",
    "\n",
    "We will now reuse the machinery derived above in a related context. We go back to DNA sequences, and consider some easy statistics that can be used to characterize the sequences. \n",
    "First, just the frequencies of bases $\\texttt{A}$, $\\texttt{C}$, $\\texttt{G}$, $\\texttt{T}$ may reveal the species from which the input DNA originates; each species has a different base composition that has been formed during evolution. \n",
    "More interestingly, the areas where DNA to RNA transcription takes place (coding region) have an excess of $\\texttt{C}$ and $\\texttt{G}$ over $\\texttt{A}$ and $\\texttt{T}$. To detect such areas a common routine is to just use a *sliding window* of fixed size, say $k$, and compute for each window position \n",
    "$T[i..i+k-1]$ the base frequencies, where $T[1..n]$ is the input DNA sequence. When sliding the window from  $T[i..i+k-1]$ to $T[i+1..i+k]$ frequency $f(T[i])$ gets decreases by one and $f(T[i+k])$ gets increased by one. \n",
    "\n",
    "9. Write a *generator* ```sliding_window``` to compute sliding window base frequencies so that each moving of the window takes constant time. We saw in the beginning of the course one way how to create generators using\n",
    "  generator expression. Here we use a different way. For the function ```sliding_window``` to be a generator, it must have at least   one ```yield``` expression, see [https://docs.python.org/3/reference/expressions.html#yieldexpr](https://docs.python.org/3/reference/expressions.html#yieldexpr).\n",
    "  \n",
    "  Here is an example of a generator expression that works similarily to the built in `range` generator:\n",
    "  ```Python\n",
    "  def range(a, b=None, c=1):\n",
    "      current = 0 if b == None else a\n",
    "      end = a if b == None else b\n",
    "      while current < end:\n",
    "          yield current\n",
    "          current += c\n",
    "  ```\n",
    "  A yield expression can be used to return a value and *temporarily* return from the function."
   ]
  },
  {
   "cell_type": "code",
   "execution_count": 67,
   "metadata": {},
   "outputs": [
    {
     "output_type": "stream",
     "name": "stdout",
     "text": [
      "{'A': 1, 'C': 1, 'G': 1, 'T': 1}\n{'A': 0, 'C': 1, 'G': 1, 'T': 2}\n{'A': 0, 'C': 0, 'G': 2, 'T': 2}\n{'A': 0, 'C': 1, 'G': 1, 'T': 2}\n"
     ]
    }
   ],
   "source": [
    "\n",
    "def sliding_window(s, k):\n",
    "    \"\"\"\n",
    "    This function returns a generator that can be iterated over all\n",
    "    starting position of a k-window in the sequence.\n",
    "    For each starting position the generator returns the nucleotide frequencies\n",
    "    in the window as a dictionary.\n",
    "    \"\"\"\n",
    "    i = 0\n",
    "    unique = set(s)\n",
    "\n",
    "    while i + k < len(s):\n",
    "        sub = s[i:i + k]\n",
    "        freq = {n: sub.count(n) for n in unique}\n",
    "        yield freq\n",
    "        i += 1\n",
    "    \n",
    "if __name__ == '__main__':\n",
    "    s = \"TCCCGACGGCCTTGCC\"\n",
    "    #for d in sliding_window(s, 4):\n",
    "    #    print(d)\n",
    "    for d in sliding_window(\"ACGTTGCA\", 4):\n",
    "        print(d)"
   ]
  },
  {
   "cell_type": "markdown",
   "metadata": {},
   "source": [
    "### Idea of solution\n",
    "\n",
    "For each substring of size `k`, the function is going to compute how many times each unique nucletoide is present, and will store this information in a dictionary, whose key is the nucletoide and the value is the frequency."
   ]
  },
  {
   "cell_type": "markdown",
   "metadata": {},
   "source": [
    "### Discussion\n",
    "\n",
    "The functions shows the correct frequencies for each window. It would seem that, with the number of unique characters increasing we would get sparse representations. But this is how the problem is structured in its domain."
   ]
  },
  {
   "cell_type": "markdown",
   "metadata": {},
   "source": [
    " \n",
    "Our models so far have been so-called *zero-order* models, as each event has been independent of other events. With sequences, the dependencies of events are naturally encoded by their *contexts*. Considering that a sequence is produced from left-to-right, a *first-order* context for $T[i]$ is $T[i-1]$, that is, the immediately preceding symbol. *First-order Markov chain* is a sequence produced by generating $c=T[i]$ with the probability of event of seeing symbol $c$ after previously generated symbol $a=T[i-1]$. The first symbol of the chain is sampled according to the zero-order model.  \n",
    "The first-order model can naturally be extended to contexts of length $k$, with $T[i]$ depending on $T[i-k..i-1]$. Then the first $k$ symbols of the chain are sampled according to the zero-order model.  The following assignments develop the routines to work with the *higher-order Markov chains*. \n",
    "In what follows, a $k$-mer is a substring $T[i..i+k-1]$ of the sequence at an arbitrary position. \n",
    "\n",
    "10. Write function ```context_list``` that given an input DNA sequence $T$ associates to each $k$-mer $W$ the concatenation of all symbols $c$ that appear after context $W$ in $T$, that is, $T[i..i+k]=Wc$. For example, <span style=\"color:red; font:courier;\">GA</span> is associated to <span style=\"color:blue; font: courier;\">TCT</span> in $T$=<span style=\"font: courier;\">AT<span style=\"color:red;\">GA</span><span style=\"color:blue;\">T</span>ATCATC<span style=\"color:red;\">GA</span><span style=\"color:blue;\">C</span><span style=\"color:red;\">GA</span><span style=\"color:blue;\">T</span>GTAG</span>, when $k=2$."
   ]
  },
  {
   "cell_type": "code",
   "execution_count": 68,
   "metadata": {},
   "outputs": [
    {
     "output_type": "stream",
     "name": "stdout",
     "text": [
      "{'AT': 'GACCC', 'TG': 'A', 'GA': 'TCT', 'TA': 'TG', 'TC': 'AGT', 'CA': 'T', 'CG': 'AA', 'AC': 'G', 'CT': 'A'}\n"
     ]
    }
   ],
   "source": [
    "def context_list(s, k):\n",
    "    i = 0\n",
    "    contextes = {}\n",
    "\n",
    "    while i + k < len(s):\n",
    "        context = s[i:i + k]\n",
    "        if context in contextes.keys():\n",
    "            contextes[context] = \"\".join(list(contextes[context]) + [s[i + k]])\n",
    "        else:\n",
    "            contextes[context] = s[i + k]\n",
    "        i += 1\n",
    "\n",
    "    return contextes\n",
    "    \n",
    "if __name__ == '__main__':\n",
    "    k = 2\n",
    "    s = \"ATGATATCATCGACGATCTAG\"\n",
    "    d = context_list(s, k)\n",
    "    print(d)"
   ]
  },
  {
   "cell_type": "markdown",
   "metadata": {},
   "source": [
    "### Idea of solution\n",
    "\n",
    "The idea is to iterate through each k-mer, which will be our context, and for each of these, we add in a dictionary where keys are the iterated contextes, the following symbol appearing after it."
   ]
  },
  {
   "cell_type": "markdown",
   "metadata": {},
   "source": [
    "### Discussion\n",
    "\n",
    "The function passes the unit tests, therefore it works as expected."
   ]
  },
  {
   "cell_type": "markdown",
   "metadata": {},
   "source": [
    "11. With the above solution, write function ```context_probabilities``` to count the frequencies of symbols in each context and convert these frequencies into probabilities. Run `context_probabilities` with $T=$ `ATGATATCATCGACGATGTAG` and $k$ values 0 and 2."
   ]
  },
  {
   "cell_type": "code",
   "execution_count": 69,
   "metadata": {},
   "outputs": [
    {
     "output_type": "stream",
     "name": "stdout",
     "text": [
      "{'': {'A': 0.3333333333333333, 'T': 0.2857142857142857, 'G': 0.23809523809523808, 'C': 0.14285714285714285}}\n",
      "{'AT': {'G': 0.4, 'A': 0.2, 'C': 0.4}, 'TG': {'A': 0.5, 'T': 0.5}, 'GA': {'T': 0.6666666666666666, 'C': 0.3333333333333333}, 'TA': {'T': 0.5, 'G': 0.5}, 'TC': {'A': 0.5, 'G': 0.5}, 'CA': {'T': 1.0}, 'CG': {'A': 1.0}, 'AC': {'G': 1.0}, 'GT': {'A': 1.0}}\n"
     ]
    }
   ],
   "source": [
    "def context_probabilities(s, k):\n",
    "    context_probs = {}\n",
    "\n",
    "    for ctx, val in context_list(s, k).items():\n",
    "        context_probs[ctx] = {ch: val.count(ch) / len(val) for ch in val}\n",
    "\n",
    "    return context_probs\n",
    "\n",
    "    \n",
    "if __name__ == '__main__':\n",
    "    k = 0\n",
    "    s = \"ATGATATCATCGACGATGTAG\"\n",
    "    print(context_probabilities(s, k))\n",
    "    k = 2\n",
    "    print(context_probabilities(s, k))"
   ]
  },
  {
   "cell_type": "markdown",
   "metadata": {},
   "source": [
    "### Idea of solution\n",
    "\n",
    "This module counts the total number of contextes together with contextes themselves and then it converts these frequencies into probabilities, by dividing the number of occurrences of each element by the total number of contextes."
   ]
  },
  {
   "cell_type": "markdown",
   "metadata": {},
   "source": [
    "### Discussion\n",
    "\n",
    "The function does indeed turns frequencies into the right probabilities as the tests results show. We can also see how powerful Python's `dict` type is."
   ]
  },
  {
   "cell_type": "markdown",
   "metadata": {},
   "source": [
    "12. With the above solution and the function ```random_event``` from the earlier exercise, write class ```MarkovChain```. Its ```generate``` method should generate a random DNA sequence following the original $k$-th order Markov chain probabilities. "
   ]
  },
  {
   "cell_type": "code",
   "execution_count": 70,
   "metadata": {},
   "outputs": [
    {
     "output_type": "stream",
     "name": "stdout",
     "text": [
      "TGTATGATGA\n"
     ]
    }
   ],
   "source": [
    "class MarkovChain:\n",
    "    \n",
    "    def __init__(self, zeroth, kth, k=2):\n",
    "        self.k = k\n",
    "        self.zeroth = zeroth\n",
    "        self.kth = kth\n",
    "        \n",
    "    def generate(self, n, seed=None):\n",
    "        np.random.seed(seed)\n",
    "        \n",
    "        seq = []\n",
    "        i = 0\n",
    "\n",
    "        while i < self.k and i < n:\n",
    "                seq.append(random_event(self.zeroth))\n",
    "                i += 1\n",
    "\n",
    "        while i < n:\n",
    "            ctx = \"\".join(seq[i - self.k:i])\n",
    "            seq.append(random_event(self.kth[ctx]))\n",
    "            \n",
    "            i += 1\n",
    "\n",
    "        return \"\".join(seq)\n",
    "            \n",
    "\n",
    "\n",
    "if __name__ == '__main__':\n",
    "    zeroth = {'A': 0.2, 'C': 0.19, 'T': 0.31, 'G': 0.3}\n",
    "    kth = {'GT': {'A': 1.0, 'C': 0.0, 'T': 0.0, 'G': 0.0},\n",
    "           'CA': {'A': 0.0, 'C': 0.0, 'T': 1.0, 'G': 0.0},\n",
    "           'TC': {'A': 0.5, 'C': 0.0, 'T': 0.0, 'G': 0.5},\n",
    "           'GA': {'A': 0.0, 'C': 0.3333333333333333, 'T': 0.6666666666666666, 'G': 0.0},\n",
    "           'TG': {'A': 0.5, 'C': 0.0, 'T': 0.5, 'G': 0.0},\n",
    "           'AT': {'A': 0.2, 'C': 0.4, 'T': 0.0, 'G': 0.4},\n",
    "           'TA': {'A': 0.0, 'C': 0.0, 'T': 0.5, 'G': 0.5},\n",
    "           'AC': {'A': 0.0, 'C': 0.0, 'T': 0.0, 'G': 1.0},\n",
    "           'CG': {'A': 1.0, 'C': 0.0, 'T': 0.0, 'G': 0.0}}\n",
    "    n = 10\n",
    "    seed = 0\n",
    "    mc = MarkovChain(zeroth, kth)\n",
    "    print(mc.generate(n, seed))"
   ]
  },
  {
   "cell_type": "markdown",
   "metadata": {},
   "source": [
    "### Idea of solution\n",
    "\n",
    "The function is required to initialize the given seed and then generate the first k element using the zeroth dictionary, before generating the rest using the given kth dictionary of dictionaries."
   ]
  },
  {
   "cell_type": "markdown",
   "metadata": {},
   "source": [
    "### Discussion\n",
    "\n",
    "The function passes the unit tests. In order not to go out of the given length `n`, we have to add this check during the initialization."
   ]
  },
  {
   "cell_type": "markdown",
   "metadata": {},
   "source": [
    "If you have survived so far without problems, please run your program a few more times with different inputs. At some point you should get a lookup error in your hash-table! The reason for this is not your code, but the way we defined the model: Some $k$-mers may not be among the training data (input sequence $T$), but such can be generated as the first $k$-mer that is generated using the zero-order model.  \n",
    "\n",
    "A general approach to fixing such issues with incomplete training data is to use *pseudo counts*. That is, all imaginable events are initialized to frequency count 1.   \n",
    "\n",
    "13. Write a new solution `context_pseudo_probabilities` based on the solution to problem 11. But this time use pseudo counts in order to obtain a $k$-th order Markov chain that can assign a probability for any DNA sequence. You may use the standard library function `itertools.product` to iterate over all $k$-mer of given length (`product(\"ACGT\", repeat=k)`)."
   ]
  },
  {
   "cell_type": "code",
   "execution_count": 71,
   "metadata": {},
   "outputs": [
    {
     "output_type": "stream",
     "name": "stdout",
     "text": [
      "zeroth: {'A': 0.32, 'C': 0.16, 'G': 0.24, 'T': 0.28}\nAA: {'A': 0.25, 'C': 0.25, 'G': 0.25, 'T': 0.25}\nAC: {'A': 0.2, 'C': 0.2, 'G': 0.4, 'T': 0.2}\nAG: {'A': 0.25, 'C': 0.25, 'G': 0.25, 'T': 0.25}\nAT: {'A': 0.2222222222222222, 'C': 0.3333333333333333, 'G': 0.3333333333333333, 'T': 0.1111111111111111}\nCA: {'A': 0.2, 'C': 0.2, 'G': 0.2, 'T': 0.4}\nCC: {'A': 0.25, 'C': 0.25, 'G': 0.25, 'T': 0.25}\nCG: {'A': 0.5, 'C': 0.16666666666666666, 'G': 0.16666666666666666, 'T': 0.16666666666666666}\nCT: {'A': 0.25, 'C': 0.25, 'G': 0.25, 'T': 0.25}\nGA: {'A': 0.14285714285714285, 'C': 0.2857142857142857, 'G': 0.14285714285714285, 'T': 0.42857142857142855}\nGC: {'A': 0.25, 'C': 0.25, 'G': 0.25, 'T': 0.25}\nGG: {'A': 0.25, 'C': 0.25, 'G': 0.25, 'T': 0.25}\nGT: {'A': 0.4, 'C': 0.2, 'G': 0.2, 'T': 0.2}\nTA: {'A': 0.16666666666666666, 'C': 0.16666666666666666, 'G': 0.3333333333333333, 'T': 0.3333333333333333}\nTC: {'A': 0.3333333333333333, 'C': 0.16666666666666666, 'G': 0.3333333333333333, 'T': 0.16666666666666666}\nTG: {'A': 0.3333333333333333, 'C': 0.16666666666666666, 'G': 0.16666666666666666, 'T': 0.3333333333333333}\nTT: {'A': 0.25, 'C': 0.25, 'G': 0.25, 'T': 0.25}\n\n CGATCAAGACACGTAGAACG\n"
     ]
    }
   ],
   "source": [
    "from itertools import product\n",
    "\n",
    "def context_pseudo_probabilities(s, k):\n",
    "    context_pseudo_probs = {}\n",
    "    \n",
    "    symbols = \"ACGT\"\n",
    "    contexts = context_list(s, k)\n",
    "\n",
    "    k_mers = [\"\".join(t) for t in product(symbols, repeat=k)]\n",
    "\n",
    "    for k_mer in k_mers:\n",
    "        if k_mer not in contexts:\n",
    "            contexts[k_mer] = symbols\n",
    "        else:\n",
    "            contexts[k_mer] += symbols\n",
    "\n",
    "    for k_mer in k_mers:\n",
    "        ctx = contexts[k_mer]\n",
    "        context_pseudo_probs[k_mer] = {ch: ctx.count(ch) / len(ctx) for ch in symbols}\n",
    "\n",
    "    return context_pseudo_probs\n",
    "\n",
    "if __name__ == '__main__':\n",
    "    k = 2\n",
    "    s = \"ATGATATCATCGACGATGTAG\"\n",
    "    kth = context_pseudo_probabilities(s, k)\n",
    "    zeroth = context_pseudo_probabilities(s, 0)[\"\"]\n",
    "    print(f\"zeroth: {zeroth}\")\n",
    "    print(\"\\n\".join(f\"{k}: {dict(v)}\" for k, v in kth.items()))\n",
    "    \n",
    "    print(\"\\n\", MarkovChain(zeroth, kth, k).generate(20))"
   ]
  },
  {
   "cell_type": "markdown",
   "metadata": {},
   "source": [
    "### Idea of solution\n",
    "\n",
    "In order to initialize, we define a variable `contextes`, which will be assigned to the function call `context_list()`, with the sole exception that we add to the already present values having as the preceeding letters the ones in the context, the symbols used, `\"ACGT\"`, so as to initialize the frequencies as uniform at beginning, and then of course change them as needed as we go along the input we get."
   ]
  },
  {
   "cell_type": "markdown",
   "metadata": {},
   "source": [
    "### Discussion\n",
    "\n",
    "The function output is coherent to the description, and the test have been successful. As said above, we add to every context in `contextes` the string `\"ACGT\"` so as to initialize them."
   ]
  },
  {
   "cell_type": "markdown",
   "metadata": {},
   "source": [
    "14. Write class ```MarkovProb``` that given the $k$-th order Markov chain developed above to the constructor, its method ```probability``` computes the probability of a given input DNA sequence."
   ]
  },
  {
   "cell_type": "code",
   "execution_count": 72,
   "metadata": {},
   "outputs": [
    {
     "output_type": "stream",
     "name": "stdout",
     "text": [
      "Probability of sequence ATGATATCATCGACGATGTAG is 2.831270190340017e-10\n"
     ]
    }
   ],
   "source": [
    "class MarkovProb:\n",
    "    def __init__(self, k, zeroth, kth):\n",
    "        self.k = k\n",
    "        self.zeroth = zeroth\n",
    "        self.kth = kth\n",
    "        \n",
    "    def probability(self, s):\n",
    "        prob = 1.0\n",
    "        i = 0\n",
    "\n",
    "        while i < self.k and i < len(s):\n",
    "            prob *= self.zeroth[s[i]]\n",
    "            i += 1\n",
    "\n",
    "        while i < len(s):\n",
    "            context = s[i - self.k:i]\n",
    "            prob *= self.kth[context][s[i]]\n",
    "            i += 1\n",
    "\n",
    "        return prob\n",
    "\n",
    "    \n",
    "if __name__ == '__main__':\n",
    "    k = 2\n",
    "    kth = context_pseudo_probabilities(\"ATGATATCATCGACGATGTAG\", k)\n",
    "    zeroth = context_pseudo_probabilities(\"ATGATATCATCGACGATGTAG\", 0)[\"\"]\n",
    "    mc = MarkovProb(2, zeroth, kth)\n",
    "    s=\"ATGATATCATCGACGATGTAG\"\n",
    "    print(f\"Probability of sequence {s} is {mc.probability(s)}\")"
   ]
  },
  {
   "cell_type": "markdown",
   "metadata": {},
   "source": [
    "### Idea of solution\n",
    "\n",
    "Given a sequence, it's zero order and k-order context probability dictionaries, we have to compute the compound probability (obtained by multiplying the probabilities of every symbol given its context)."
   ]
  },
  {
   "cell_type": "markdown",
   "metadata": {},
   "source": [
    "### Discussion\n",
    "\n",
    "The function seems to return the correct probability as it is also tested by the unit tests. "
   ]
  },
  {
   "cell_type": "markdown",
   "metadata": {},
   "source": [
    "With the last assignment you might end up in trouble with precision, as multiplying many small probabilities gives a really small number in the end. There is an easy fix by using so-called log-transform. \n",
    "Consider computation of $P=s_1 s_2 \\cdots s_n$, where $0\\leq s_i\\leq 1$ for each $i$. Taking logarithm in base 2 from both sides gives $\\log _2 P= \\log _2 (s_1 s_2 \\cdots s_n)=\\log_2 s_1 + \\log_2 s_2 + \\cdots \\log s_n= \\sum_{i=1}^n \\log s_i$, with repeated application of the property that the logarithm of a multiplication of two numbers is the sum of logarithms of the two numbers taken separately. The results is abbreviated as log-probability.\n",
    "\n",
    "15. Write class ```MarkovLog``` that given the $k$-th order Markov chain developed above to the constructor, its method ```log_probability``` computes the log-probability of a given input DNA sequence. Run your program with $T=$ `ATGATATCATCGACGATGTAG` and $k=2$."
   ]
  },
  {
   "cell_type": "code",
   "execution_count": 73,
   "metadata": {},
   "outputs": [
    {
     "output_type": "stream",
     "name": "stdout",
     "text": [
      "Log probability of sequence ATGATATCATCGACGATGTAG is -31.717831515538307\n"
     ]
    }
   ],
   "source": [
    "class MarkovLog(object):\n",
    "    def __init__(self, k, zeroth, kth):\n",
    "        self.k = k\n",
    "        self.zeroth = zeroth\n",
    "        self.kth = kth\n",
    "        \n",
    "    def log_probability(self, s):\n",
    "        prob = 1.0\n",
    "        i = 0\n",
    "\n",
    "        while i < self.k and i < len(s):\n",
    "            prob *= self.zeroth[s[i]]\n",
    "            i += 1\n",
    "\n",
    "        while i < len(s):\n",
    "            context = s[i - self.k:i]\n",
    "            prob *= self.kth[context][s[i]]\n",
    "            i += 1\n",
    "\n",
    "        return np.log2(prob)\n",
    "    \n",
    "if __name__ == '__main__':\n",
    "    k = 2\n",
    "    kth = context_pseudo_probabilities(\"ATGATATCATCGACGATGTAG\", k)\n",
    "    zeroth = context_pseudo_probabilities(\"ATGATATCATCGACGATGTAG\", 0)[\"\"]\n",
    "    mc = MarkovLog(2, zeroth, kth)\n",
    "    s=\"ATGATATCATCGACGATGTAG\"\n",
    "    print(f\"Log probability of sequence {s} is {mc.log_probability(s)}\")"
   ]
  },
  {
   "cell_type": "markdown",
   "metadata": {},
   "source": [
    "### Idea of solution\n",
    "\n",
    "The function is the same as the previously defined `Markov`'s `probability`, except that we return the logarithm of it."
   ]
  },
  {
   "cell_type": "markdown",
   "metadata": {},
   "source": [
    "### Discussion\n",
    "\n",
    "The function returns the correct log probability, which should go from minus infinity to zero. Being the probabilities as calculated in the previous module very low, in order to avoid possible numerical underflows, using log probabilities help us getting numbers which do not present such risk."
   ]
  },
  {
   "cell_type": "markdown",
   "metadata": {},
   "source": [
    "Finally, if you try to use the code so far for very large inputs, you might observe that the concatenation of symbols following a context occupy considerable amount of space. This is unnecessary, as we only need the frequencies. \n",
    "\n",
    "16. Optimize the space requirement of your code from exercise 13 for the $k$-th order Markov chain by replacing the concatenations by direct computations of the frequencies. Implement this as the\n",
    "  ```better_context_probabilities``` function."
   ]
  },
  {
   "cell_type": "code",
   "execution_count": 74,
   "metadata": {},
   "outputs": [
    {
     "output_type": "stream",
     "name": "stdout",
     "text": [
      "AA: {'A': 0.25, 'C': 0.25, 'G': 0.25, 'T': 0.25}\nAC: {'A': 0.2, 'C': 0.2, 'G': 0.4, 'T': 0.2}\nAG: {'A': 0.25, 'C': 0.25, 'G': 0.25, 'T': 0.25}\nAT: {'A': 0.2222222222222222, 'C': 0.3333333333333333, 'G': 0.3333333333333333, 'T': 0.1111111111111111}\nCA: {'A': 0.2, 'C': 0.2, 'G': 0.2, 'T': 0.4}\nCC: {'A': 0.25, 'C': 0.25, 'G': 0.25, 'T': 0.25}\nCG: {'A': 0.5, 'C': 0.16666666666666666, 'G': 0.16666666666666666, 'T': 0.16666666666666666}\nCT: {'A': 0.25, 'C': 0.25, 'G': 0.25, 'T': 0.25}\nGA: {'A': 0.14285714285714285, 'C': 0.2857142857142857, 'G': 0.14285714285714285, 'T': 0.42857142857142855}\nGC: {'A': 0.25, 'C': 0.25, 'G': 0.25, 'T': 0.25}\nGG: {'A': 0.25, 'C': 0.25, 'G': 0.25, 'T': 0.25}\nGT: {'A': 0.4, 'C': 0.2, 'G': 0.2, 'T': 0.2}\nTA: {'A': 0.16666666666666666, 'C': 0.16666666666666666, 'G': 0.3333333333333333, 'T': 0.3333333333333333}\nTC: {'A': 0.3333333333333333, 'C': 0.16666666666666666, 'G': 0.3333333333333333, 'T': 0.16666666666666666}\nTG: {'A': 0.3333333333333333, 'C': 0.16666666666666666, 'G': 0.16666666666666666, 'T': 0.3333333333333333}\nTT: {'A': 0.25, 'C': 0.25, 'G': 0.25, 'T': 0.25}\n"
     ]
    }
   ],
   "source": [
    "from collections import Counter\n",
    "\n",
    "def better_context_probabilities(s, k):\n",
    "    better_context_probs = {}\n",
    "    \n",
    "    symbols = \"ACGT\"\n",
    "    contexts = context_list(s, k)\n",
    "\n",
    "    k_mers = [\"\".join(t) for t in product(symbols, repeat=k)]\n",
    "\n",
    "    for k_mer in k_mers:\n",
    "        ctx = contexts.get(k_mer, \"\")\n",
    "        better_context_probs[k_mer] = {ch: (ctx + symbols).count(ch) / len(ctx + symbols) for ch in symbols}\n",
    "\n",
    "    return better_context_probs\n",
    "\n",
    "if __name__ == '__main__':\n",
    "    k = 2\n",
    "    s = \"ATGATATCATCGACGATGTAG\"\n",
    "    d = better_context_probabilities(s, k)\n",
    "    print(\"\\n\".join(f\"{k}: {v}\" for k, v in d.items()))"
   ]
  },
  {
   "cell_type": "markdown",
   "metadata": {},
   "source": [
    "### Idea of solution\n",
    "\n",
    "The module is exactly the same as defined at `e07.13` with the only exception that we are not concatenating our symbols directly to our contextes."
   ]
  },
  {
   "cell_type": "markdown",
   "metadata": {},
   "source": [
    "### Discussion\n",
    "\n",
    "Results are corrected as shown by the tests. We achieved a memory efficient method of computing the probabilities."
   ]
  },
  {
   "cell_type": "markdown",
   "metadata": {},
   "source": [
    "While the earlier approach of explicit concatenation of symbols following a context suffered from inefficient use of space, it does have a benefit of giving another much simpler strategy to sample from the distribution: \n",
    "observe that an element of the concatenation taken uniformly randomly is sampled exactly with the correct probability. \n",
    "\n",
    "17. Revisit the solution 12 and modify it to directly sample from the concatenation of symbols following a context. The function ```np.random.choice``` may be convenient here. Implement the modified version as the new `SimpleMarkovChain` class."
   ]
  },
  {
   "cell_type": "code",
   "execution_count": 75,
   "metadata": {},
   "outputs": [
    {
     "output_type": "stream",
     "name": "stdout",
     "text": [
      "ACGCTGGAAG\n"
     ]
    }
   ],
   "source": [
    "class SimpleMarkovChain(object):\n",
    "    def __init__(self, s, k):\n",
    "        self.s = s\n",
    "        self.k = k\n",
    "\n",
    "    def generate(self, n, seed=None):\n",
    "        np.random.seed(seed)\n",
    "\n",
    "        a = list(set(self.s))\n",
    "        p = [f / len(self.s) for f in Counter(self.s).values()]\n",
    "\n",
    "        return \"\".join(np.random.choice(a=a, size=n, p=p))\n",
    "        \n",
    "if __name__ == '__main__':\n",
    "    k = 2\n",
    "    s = \"ATGATATCATCGACGATGTAG\"\n",
    "    n = 10\n",
    "    seed = 7\n",
    "    mc = SimpleMarkovChain(s, k)\n",
    "    print(mc.generate(n, seed))"
   ]
  },
  {
   "cell_type": "markdown",
   "metadata": {},
   "source": [
    "### Idea of solution\n",
    "\n",
    "Instead of concatenating, we compute the frequency of each symbol and use that to predict the sequence through the suggested module `np.random.choice()`. Therefore, there is no explicit context we refer to, just the concatenation of symbols `s`."
   ]
  },
  {
   "cell_type": "markdown",
   "metadata": {},
   "source": [
    "### Discussion\n",
    "\n",
    "The module passes all the unit tests, therefore we assume it is working as intended. Space is not a problem anymore, but the strategy now seems less obvious than before."
   ]
  },
  {
   "cell_type": "markdown",
   "metadata": {},
   "source": [
    "## $k$-mer index\n",
    "\n",
    "Our $k$-th order Markov chain can now be modified to a handy index structure called $k$-mer index. This index structure associates to each $k$-mer its list of occurrence positions in DNA sequence $T$.  Given a query $k$-mer $W$, one can thus easily list all positions $i$ with  $T[i..k-1]=W$.\n",
    "\n",
    "18. Implement function ```kmer_index``` inspired by your earlier code for the $k$-th order Markov chain. Test your program with `ATGATATCATCGACGATGTAG` and $k=2$."
   ]
  },
  {
   "cell_type": "code",
   "execution_count": 76,
   "metadata": {},
   "outputs": [
    {
     "output_type": "stream",
     "name": "stdout",
     "text": [
      "Using string:\nATGATATCATCGACGATGTAG\n012345678901234567890\n\n2-mer index is:\n{'AT': [0, 3, 5, 8, 15], 'TG': [1, 16], 'GA': [2, 11, 14], 'TA': [4, 18], 'TC': [6, 9], 'CA': [7], 'CG': [10, 13], 'AC': [12], 'GT': [17], 'AG': [19]}\n"
     ]
    }
   ],
   "source": [
    "def kmer_index(s, k):\n",
    "    kmer_ds = {}\n",
    "    i = 0\n",
    "\n",
    "    while i + k <= len(s):\n",
    "        kmer = s[i:i + k]\n",
    "        \n",
    "        if kmer not in kmer_ds:\n",
    "            kmer_ds[kmer] = []\n",
    "\n",
    "        kmer_ds[kmer].append(i)\n",
    "\n",
    "        i += 1                \n",
    "\n",
    "    return kmer_ds\n",
    "\n",
    "if __name__ == '__main__':\n",
    "    k=2\n",
    "    s = \"ATGATATCATCGACGATGTAG\"\n",
    "    print(\"Using string:\")\n",
    "    print(s)\n",
    "    print(\"\".join([str(i%10) for i in range(len(s))]))\n",
    "    print(f\"\\n{k}-mer index is:\")\n",
    "    d=kmer_index(s, k)\n",
    "    print(dict(d))"
   ]
  },
  {
   "cell_type": "markdown",
   "metadata": {},
   "source": [
    "### Idea of solution\n",
    "\n",
    "The function iterates over each kmer and stores the index of each occurrence in the right dict key."
   ]
  },
  {
   "cell_type": "markdown",
   "metadata": {},
   "source": [
    "### Discussion\n",
    "\n",
    "The function returns the correct indexes for each k-mer in the test sequence."
   ]
  },
  {
   "cell_type": "markdown",
   "metadata": {},
   "source": [
    "## Comparison of probability distributions\n",
    "\n",
    "Now that we know how to learn probability distributions from data, we might want to compare two such distributions, for example, to test if our programs work as intended. \n",
    "\n",
    "Let $P=\\{p_1,p_2,\\ldots, p_n\\}$ and $Q=\\{q_1,q_2,\\ldots, q_n\\}$ be two probability distributions for the same set of $n$ events. This means $\\sum_{i=1}^n p_i=\\sum_{i=1}^n q_i=1$, $0\\leq p_j \\leq 1$, and $0\\leq q_j \\leq 1$ for each event $j$. \n",
    "\n",
    "*Kullback-Leibler divergence* is a measure $d()$ for the *relative entropy* of $P$ with respect to $Q$ defined as \n",
    "$d(P||Q)=\\sum_{i=1}^n p_i \\log\\frac{p_i}{q_i}$.\n",
    "\n",
    "\n",
    "This measure is always non-negative, and 0 only when $P=Q$. It can be interpreted as the gain of knowing $Q$ to encode $P$. Note that this measure is not symmetric.\n",
    "\n",
    "19. Write function ```kullback_leibler``` to compute $d(P||Q)$. Test your solution by generating a random RNA sequence\n",
    "  encoding the input protein sequence according to the input codon adaptation probabilities.\n",
    "  Then you should learn the codon adaptation probabilities from the RNA sequence you generated.\n",
    "  Then try the same with uniformly random RNA sequences (which don't have to encode any\n",
    "  specific protein sequence). Compute the relative entropies between the\n",
    "  three distribution (original, predicted, uniform) and you should observe a clear difference.\n",
    "  Because $d(P||Q)$ is not symmetric, you can either print both $d(P||Q)$ and $d(Q||P)$,\n",
    "  or their average.\n",
    "  \n",
    "  This problem may be fairly tricky. Only the `kullback_leibler` function is automatically tested. The codon probabilities is probably a useful helper function. The main guarded section can be completed by filling out the `pass` sections using tooling from previous parts and fixing the *placeholder* lines."
   ]
  },
  {
   "cell_type": "code",
   "execution_count": 77,
   "metadata": {},
   "outputs": [
    {
     "output_type": "stream",
     "name": "stdout",
     "text": [
      "{'AAA': 0.019833333333333335, 'AAG': 0.016966666666666668, 'AAU': 0.0203, 'AAC': 0.016, 'AGA': 0.019133333333333332, 'AGG': 0.0134, 'AGU': 0.0143, 'AGC': 0.013166666666666667, 'AUA': 0.0151, 'AUG': 0.029, 'AUU': 0.0174, 'AUC': 0.015833333333333335, 'ACA': 0.020633333333333333, 'ACG': 0.010966666666666666, 'ACU': 0.015733333333333332, 'ACC': 0.0175, 'GAA': 0.0217, 'GAG': 0.015366666666666667, 'GAU': 0.020133333333333333, 'GAC': 0.017733333333333334, 'GGA': 0.020033333333333334, 'GGG': 0.015666666666666666, 'GGU': 0.014, 'GGC': 0.015833333333333335, 'GUA': 0.012433333333333333, 'GUG': 0.0207, 'GUU': 0.012266666666666667, 'GUC': 0.009966666666666667, 'GCA': 0.017533333333333335, 'GCG': 0.008566666666666667, 'GCU': 0.013866666666666666, 'GCC': 0.015133333333333334, 'UAA': 0.0131, 'UAG': 0.0087, 'UAU': 0.016233333333333332, 'UAC': 0.013433333333333334, 'UGA': 0.023766666666666665, 'UGG': 0.026766666666666668, 'UGU': 0.0196, 'UGC': 0.017933333333333332, 'UUA': 0.010433333333333333, 'UUG': 0.016966666666666668, 'UUU': 0.0168, 'UUC': 0.0141, 'UCA': 0.017666666666666667, 'UCG': 0.008433333333333333, 'UCU': 0.013066666666666667, 'UCC': 0.0107, 'CAA': 0.018466666666666666, 'CAG': 0.018966666666666666, 'CAU': 0.020666666666666667, 'CAC': 0.017666666666666667, 'CGA': 0.012, 'CGG': 0.0097, 'CGU': 0.007466666666666667, 'CGC': 0.008166666666666666, 'CUA': 0.0135, 'CUG': 0.0214, 'CUU': 0.011833333333333333, 'CUC': 0.009966666666666667, 'CCA': 0.019933333333333334, 'CCG': 0.009366666666666667, 'CCU': 0.014033333333333333, 'CCC': 0.0129}\n",
      "{'AAA': 0.019433333333333334, 'AAG': 0.016666666666666666, 'AAU': 0.0201, 'AAC': 0.015833333333333335, 'AGA': 0.017733333333333334, 'AGG': 0.014133333333333333, 'AGU': 0.015166666666666667, 'AGC': 0.013833333333333333, 'AUA': 0.016, 'AUG': 0.029566666666666668, 'AUU': 0.0172, 'AUC': 0.016533333333333334, 'ACA': 0.019466666666666667, 'ACG': 0.0115, 'ACU': 0.015566666666666666, 'ACC': 0.0164, 'GAA': 0.020433333333333335, 'GAG': 0.016533333333333334, 'GAU': 0.022033333333333332, 'GAC': 0.016866666666666665, 'GGA': 0.0213, 'GGG': 0.016133333333333333, 'GGU': 0.014533333333333334, 'GGC': 0.015, 'GUA': 0.012166666666666666, 'GUG': 0.0211, 'GUU': 0.0123, 'GUC': 0.010633333333333333, 'GCA': 0.0173, 'GCG': 0.008933333333333333, 'GCU': 0.013866666666666666, 'GCC': 0.014266666666666667, 'UAA': 0.014133333333333333, 'UAG': 0.008966666666666666, 'UAU': 0.016266666666666665, 'UAC': 0.0131, 'UGA': 0.0237, 'UGG': 0.027266666666666668, 'UGU': 0.0189, 'UGC': 0.017933333333333332, 'UUA': 0.011866666666666666, 'UUG': 0.014133333333333333, 'UUU': 0.015233333333333333, 'UUC': 0.0148, 'UCA': 0.0181, 'UCG': 0.0084, 'UCU': 0.012666666666666666, 'UCC': 0.011733333333333333, 'CAA': 0.018033333333333332, 'CAG': 0.0187, 'CAU': 0.0209, 'CAC': 0.017133333333333334, 'CGA': 0.013133333333333334, 'CGG': 0.009433333333333334, 'CGU': 0.0076, 'CGC': 0.0076, 'CUA': 0.012433333333333333, 'CUG': 0.023, 'CUU': 0.0113, 'CUC': 0.008933333333333333, 'CCA': 0.0199, 'CCG': 0.008933333333333333, 'CCU': 0.013566666666666666, 'CCC': 0.0136}\n",
      "d(original || predicted) = 95.07776093768886\n",
      "d(predicted || original) = -4.244884223342107\n",
      "\n",
      "d(original || uniform) = 95.07994048410217\n",
      "d(uniform || original) = -4.244899017142296\n",
      "\n",
      "d(predicted || uniform) = 0.0021033323242213133\n",
      "d(uniform || predicted) = 0.0020882716259849384\n",
      "2.0\n"
     ]
    }
   ],
   "source": [
    "def codon_probabilities(rna):\n",
    "    \"\"\"\n",
    "    Given an RNA sequence, simply calculates the proability of\n",
    "    all 3-mers empirically based on the sequence\n",
    "    \"\"\"\n",
    "    c_probs = {}\n",
    "\n",
    "    for codon in product(set(rna), repeat=3):\n",
    "        c_seq = \"\".join(codon)\n",
    "        if c_seq in rna[:-1]:\n",
    "            kmer = kmer_index(rna, 3)\n",
    "            c_probs[c_seq] = len(kmer[c_seq]) / len(rna)\n",
    "        else: \n",
    "            c_probs[c_seq] = 0 \n",
    "\n",
    "    print(c_probs)\n",
    "\n",
    "    return c_probs\n",
    "    \n",
    "def kullback_leibler(p, q):\n",
    "    \"\"\"\n",
    "    Computes Kullback-Leibler divergence between two distributions.\n",
    "    Both p and q must be dictionaries from events to probabilities.\n",
    "    The divergence is defined only when q[event] == 0 implies p[event] == 0.\n",
    "    \"\"\"\n",
    "    div = 0.0\n",
    "\n",
    "    for e in p:\n",
    "        if p[e] == 0 or q[e] == 0:\n",
    "            if p[e] == q[e]:\n",
    "                pass \n",
    "            else:\n",
    "                if q[e] == 0:\n",
    "                    raise ZeroDivisionError\n",
    "                else:\n",
    "                    pass\n",
    "        else:\n",
    "            div += p[e] * np.log2(p[e] / q[e])\n",
    "\n",
    "    return div\n",
    "\n",
    "if __name__ == '__main__':\n",
    "    aas = list(\"*ACDEFGHIKLMNPQRSTVWY\") # List of amino acids\n",
    "    n = 10000\n",
    "    \n",
    "    # generate a random protein and some associated rna\n",
    "    protein = \"\".join(choice(aas, n))    \n",
    "    rna = ProteinToRandomRNA().convert(protein)\n",
    "    \n",
    "    # Maybe check that converting back to protein results in the same sequence\n",
    "    assert rna_to_prot(rna) == protein\n",
    "    \n",
    "    # Calculate codon probabilities of the rna sequence\n",
    "    cp_predicted = codon_probabilities(rna) # placeholder call\n",
    "    \n",
    "    # Calculate codon probabilities based on the codon usage table\n",
    "    cp_orig = {}\n",
    "    i = 0\n",
    "    table_probs = get_probabability_dict()\n",
    "\n",
    "    while i + 3 < len(rna):\n",
    "        kmer = rna[i:i + 3]\n",
    "        cp_orig[kmer] = table_probs[kmer]\n",
    "\n",
    "        i += 1\n",
    "    \n",
    "    # Create a completely random RNA sequence and get the codon probabilities\n",
    "    rand_rna = ProteinToRandomRNA().convert(protein)\n",
    "    cp_uniform = codon_probabilities(rand_rna) # placeholder call\n",
    "    \n",
    "    print(\"d(original || predicted) =\", kullback_leibler(cp_orig, cp_predicted))\n",
    "    print(\"d(predicted || original) =\", kullback_leibler(cp_predicted, cp_orig))\n",
    "    print()\n",
    "    print(\"d(original || uniform) =\", kullback_leibler(cp_orig, cp_uniform))\n",
    "    print(\"d(uniform || original) =\", kullback_leibler(cp_uniform, cp_orig))\n",
    "    print()\n",
    "    print(\"d(predicted || uniform) =\", kullback_leibler(cp_predicted, cp_uniform))\n",
    "    print(\"d(uniform || predicted) =\", kullback_leibler(cp_uniform, cp_predicted))\n",
    "\n",
    "    p = dict(zip(\"ACGT\", [1.0, 0.0, 0.0, 0.0]))\n",
    "    q = dict(zip(\"ACGT\", [0.25]*4))\n",
    "    print(kullback_leibler(p, q))"
   ]
  },
  {
   "cell_type": "markdown",
   "metadata": {},
   "source": [
    "### Idea of solution\n",
    "\n",
    "The function `codon_probabilities()` computes the probabilities of each codon based on their frequencies inside the sequnce.\n",
    "The `kullback_leiber()` module computes the divergence between two probability distributions.\n"
   ]
  },
  {
   "cell_type": "markdown",
   "metadata": {},
   "source": [
    "### Discussion\n",
    "\n",
    "The tests pass and we also have made sure that we do not get `log(0)`, by checking when `p[e]` is zero and simply not counting that term."
   ]
  },
  {
   "cell_type": "markdown",
   "metadata": {},
   "source": [
    "## Stationary and equilibrium distributions (extra)\n",
    "\n",
    "Let us consider a Markov chain of order one on the set of nucleotides.\n",
    "Its transition probabilities can be expressed as a $4 \\times 4$ matrix\n",
    "$P=(p_{ij})$, where the element $p_{ij}$ gives the probability of the $j$th nucleotide\n",
    "on the condition the previous nucleotide was the $i$th. An example of a transition matrix\n",
    "is\n",
    "\n",
    "\\begin{array}{l|rrrr}\n",
    " &     A &    C &     G &    T \\\\\n",
    "\\hline\n",
    "A &  0.30 &  0.0 &  0.70 &  0.0 \\\\\n",
    "C &  0.00 &  0.4 &  0.00 &  0.6 \\\\\n",
    "G &  0.35 &  0.0 &  0.65 &  0.0 \\\\\n",
    "T &  0.00 &  0.2 &  0.00 &  0.8 \\\\\n",
    "\\end{array}.\n",
    "\n",
    "A distribution $\\pi=(\\pi_1,\\pi_2,\\pi_3,\\pi_4)$ is called *stationary*, if\n",
    "$\\pi = \\pi P$ (the product here is matrix product).\n",
    "\n",
    "20. Write function ```get_stationary_distributions``` that gets a transition matrix as parameter,\n",
    "  and returns the list of stationary distributions. You can do this with NumPy by\n",
    "  first taking transposition of both sides of the above equation to get equation\n",
    "  $\\pi^T = P^T \\pi^T$. Using numpy.linalg.eig take all eigenvectors related to\n",
    "  eigenvalue 1.0. By normalizing these vectors to sum up to one get the stationary distributions\n",
    "  of the original transition matrix. In the ```main``` function print the stationary distributions\n",
    "  of the above transition matrix."
   ]
  },
  {
   "cell_type": "code",
   "execution_count": 88,
   "metadata": {},
   "outputs": [
    {
     "output_type": "stream",
     "name": "stdout",
     "text": [
      "+0.333, +0.000, +0.667, +0.000\n+0.000, +0.250, +0.000, +0.750\n"
     ]
    }
   ],
   "source": [
    "def get_stationary_distributions(transition):\n",
    "    \"\"\"\n",
    "    The function get a transition matrix of a degree one Markov chain as parameter.\n",
    "    It returns a list of stationary distributions, in vector form, for that chain.\n",
    "    \"\"\"\n",
    "    tt = transition.T\n",
    "\n",
    "    w, v = np.linalg.eig(tt)\n",
    "    i1 = np.isclose(w, 1)\n",
    "    v1 = v[:, i1]\n",
    "\n",
    "    v1 = v1 / v1.sum(axis=0)\n",
    "\n",
    "    return np.abs(v1.T)\n",
    "    \n",
    "    \n",
    "if __name__ == \"__main__\":\n",
    "    transition=np.array([[0.3, 0, 0.7, 0],\n",
    "                         [0, 0.4, 0, 0.6],\n",
    "                         [0.35, 0, 0.65, 0],\n",
    "                         [0, 0.2, 0, 0.8]])\n",
    "    print(\"\\n\".join(\n",
    "        \", \".join(\n",
    "            f\"{pv:+.3f}\"\n",
    "            for pv in p) \n",
    "        for p in get_stationary_distributions(transition)))"
   ]
  },
  {
   "cell_type": "markdown",
   "metadata": {},
   "source": [
    "### Idea of solution\n",
    "The description is already pretty self explanatory. What we did is indeed transposing the transition matrix, calculate the eigenvectors associated to the unit eigenvalue, transpose them and returned."
   ]
  },
  {
   "cell_type": "markdown",
   "metadata": {},
   "source": [
    "### Discussion\n",
    "The unit tests show that the proposed solution is succesfull. It is also efficient since this time we are using `numpy` which does a great job operating on matrices."
   ]
  },
  {
   "cell_type": "markdown",
   "metadata": {},
   "source": [
    "21. Implement the `kl_divergence` function below so that the main guarded code runs properly. Using your modified Markov chain generator generate a nucleotide sequence $s$ of length $10\\;000$. Choose prefixes of $s$ of lengths $1, 10, 100, 1000$, and $10\\;000$. For each of these prefixes find out their nucleotide distribution (of order 0) using your earlier tool. Use 1 as the pseudo count. Then, for each prefix, compute the KL divergence between the initial distribution and the normalized nucleotide distribution."
   ]
  },
  {
   "cell_type": "code",
   "execution_count": 89,
   "metadata": {
    "tags": []
   },
   "outputs": [
    {
     "output_type": "stream",
     "name": "stdout",
     "text": [
      "Transition probabilities are:\n",
      "[[0.3  0.   0.7  0.  ]\n",
      " [0.   0.4  0.   0.6 ]\n",
      " [0.35 0.   0.65 0.  ]\n",
      " [0.   0.2  0.   0.8 ]]\n",
      "Stationary distributions:\n",
      "[[0.33333333 0.         0.66666667 0.        ]\n",
      " [0.         0.25       0.         0.75      ]]\n",
      "Using [0.00, 0.25, 0.00, 0.75] as initial distribution\n",
      "\n",
      "KL divergence of stationary distribution prefix of length     1 is 0.76064997\n",
      "KL divergence of stationary distribution prefix of length    10 is 0.55279200\n",
      "KL divergence of stationary distribution prefix of length   100 is 0.08485110\n",
      "KL divergence of stationary distribution prefix of length  1000 is 0.00321694\n",
      "KL divergence of stationary distribution prefix of length 10000 is 0.00048261\n"
     ]
    }
   ],
   "source": [
    "def kl_divergences(initial, transition):\n",
    "    \"\"\"\n",
    "    Calculates the the Kullback-Leibler divergences between empirical distributions\n",
    "    generated using a markov model seeded with an initial distributin and a transition \n",
    "    matrix, and the initial distribution.\n",
    "    Sequences of length [1, 10, 100, 1000, 10000] are generated.\n",
    "    \"\"\"\n",
    "    prefs = [1, 10, 100, 1000, 10000]\n",
    "    divs = []\n",
    "    zeroth = dict(zip(\"ACGT\", initial))\n",
    "    kth = {ch: dict(zip([k for k in \"ACGT\"], transition[i, :].tolist())) for i, ch in enumerate(\"ACGT\")}\n",
    "    mc = MarkovChain(zeroth, kth, k=1)\n",
    "    seq = mc.generate(10000)\n",
    "\n",
    "    for pref in prefs:\n",
    "        probs = better_context_probabilities(seq[:pref], 0)[\"\"]\n",
    "        divs.append(kullback_leibler(zeroth, probs))\n",
    "\n",
    "    return zip(prefs, divs)\n",
    "\n",
    "if __name__ == \"__main__\":\n",
    "    transition=np.array([[0.3, 0, 0.7, 0],\n",
    "                         [0, 0.4, 0, 0.6],\n",
    "                         [0.35, 0, 0.65, 0],\n",
    "                         [0, 0.2, 0, 0.8]])\n",
    "    print(\"Transition probabilities are:\")\n",
    "    print(transition)\n",
    "    stationary_distributions = get_stationary_distributions(transition)\n",
    "    print(\"Stationary distributions:\")\n",
    "    print(np.stack(stationary_distributions))\n",
    "    initial = stationary_distributions[1]\n",
    "    print(\"Using [{}] as initial distribution\\n\".format(\", \".join(f\"{v:.2f}\" for v in initial)))\n",
    "    results = kl_divergences(initial, transition)\n",
    "    for prefix_length, divergence in results: # iterate on prefix lengths in order (1, 10, 100...)\n",
    "        print(\"KL divergence of stationary distribution prefix \" \\\n",
    "              \"of length {:5d} is {:.8f}\".format(prefix_length, divergence))"
   ]
  },
  {
   "cell_type": "markdown",
   "metadata": {},
   "source": [
    "### Idea of solution\n",
    "\n",
    "We use the initial distribution as the `zeroth` and the transition matrix as the `kth` (where k is equal to 1).\n",
    "This is what `initial` and `transition` represent in our `MarkovChain` model defined earlier. \n",
    "We are going to use that class (ignoring the performance benefits of sampling from the sequence itself), and we are going to generate a sequence of 10000 symbols using the probability given by `initial`. \n",
    "For each prefix, we calculate the probability distribution and the KL divergence between it and the initial distribution, and we append it in our list of divergences that we called `div`."
   ]
  },
  {
   "cell_type": "markdown",
   "metadata": {},
   "source": [
    "### Discussion\n",
    "The tests suggest we have got it correctly. Notice how, as we increase the prefix length, `probs` and `initial` converge, i.e. the longer the sequence, the more its distribution converges with the stationary distribution."
   ]
  },
  {
   "cell_type": "markdown",
   "metadata": {},
   "source": [
    "22. Implement the following in the ```main``` function.\n",
    "Find the stationary distribution for the following transition matrix:  \n",
    "\n",
    "\\begin{array}{ l | r r r r}\n",
    " & A &     C &     G &     T \\\\\n",
    "\\hline\n",
    "A &  0.30 &  0.10 &  0.50 &  0.10 \\\\\n",
    "C &  0.20 &  0.30 &  0.15 &  0.35 \\\\\n",
    "G &  0.25 &  0.15 &  0.20 &  0.40 \\\\\n",
    "T &  0.35 &  0.20 &  0.40 &  0.05 \\\\\n",
    "\\end{array}\n",
    "\n",
    "Since there is only one stationary distribution, it is called the *equilibrium distribution*.\n",
    "Choose randomly two nucleotide distributions. You can take these from your sleeve or\n",
    "sample them from the Dirichlet distribution. Then for each of these distributions\n",
    "as the initial distribution of the Markov chain, repeat the above experiment.\n",
    "\n",
    "The `main` function should return tuples, where the first element is the (random) initial distribution and the second element contains the results as a list of tuples where the first element is the kl divergence and the second element the empirical nucleotide distribution, for the different prefix lengths.\n",
    "\n",
    "The state distribution should converge to the equilibrium distribution no matter how we\n",
    "start the Markov chain! That is the last line of the tables should have KL-divergence very close to $0$ and an empirical distribution very close to the equilibrium distribution.\n"
   ]
  },
  {
   "cell_type": "code",
   "execution_count": 90,
   "metadata": {
    "ExecuteTime": {
     "end_time": "2019-07-08T22:04:23.681300Z",
     "start_time": "2019-07-08T22:04:23.657345Z"
    }
   },
   "outputs": [
    {
     "output_type": "stream",
     "name": "stdout",
     "text": [
      "Transition probabilities are:\n[[0.3  0.1  0.5  0.1 ]\n [0.2  0.3  0.15 0.35]\n [0.25 0.15 0.2  0.4 ]\n [0.35 0.2  0.4  0.05]]\nEquilibrium distribution:\n[0.27803345 0.17353238 0.32035021 0.22808396]\n[9.97000252e-02 9.00291830e-01 8.14450265e-06 2.76577477e-12]\n[8.92559581e-01 8.32675652e-02 2.41727388e-02 1.15163075e-07]\n"
     ]
    }
   ],
   "source": [
    "def main(transition, equilibrium_distribution):\n",
    "    initial = []\n",
    "    divs_and_emps = []\n",
    "\n",
    "    samp_dists = np.random.dirichlet(equilibrium_distribution, 2)\n",
    "\n",
    "    for samp in samp_dists:\n",
    "        print(samp)\n",
    "        initial.append(samp)\n",
    "    \n",
    "    return zip(initial, divs_and_emps)\n",
    "\n",
    "\n",
    "if __name__ == \"__main__\":\n",
    "    transition = np.array([[0.3, 0.1, 0.5, 0.1],\n",
    "                           [0.2, 0.3, 0.15, 0.35],\n",
    "                           [0.25, 0.15, 0.2, 0.4],\n",
    "                           [0.35, 0.2, 0.4, 0.05]])\n",
    "    print(\"Transition probabilities are:\", transition, sep=\"\\n\")\n",
    "    stationary_distributions = get_stationary_distributions(transition)\n",
    "    # Uncomment the below line to check that there actually is only one stationary distribution\n",
    "    assert len(stationary_distributions) == 1\n",
    "    equilibrium_distribution = stationary_distributions[0]\n",
    "    print(\"Equilibrium distribution:\")\n",
    "    print(equilibrium_distribution)\n",
    "    for initial_distribution, results in main(transition, equilibrium_distribution):\n",
    "        print(\"\\nUsing {} as initial distribution:\".format(initial_distribution))\n",
    "        print(\"kl-divergence   empirical distribution\")\n",
    "        print(\"\\n\".join(\"{:.11f}   {}\".format(di, kl) for di, kl in results))"
   ]
  },
  {
   "cell_type": "markdown",
   "metadata": {},
   "source": [
    "### Idea of solution\n",
    "\n",
    "fill in"
   ]
  },
  {
   "cell_type": "markdown",
   "metadata": {},
   "source": [
    "### Discussion\n",
    "fill in"
   ]
  }
 ],
 "metadata": {
  "kernelspec": {
   "display_name": "Python 3",
   "language": "python",
   "name": "python3"
  },
  "language_info": {
   "codemirror_mode": {
    "name": "ipython",
    "version": 3
   },
   "file_extension": ".py",
   "mimetype": "text/x-python",
   "name": "python",
   "nbconvert_exporter": "python",
   "pygments_lexer": "ipython3",
   "version": "3.9.1-final"
  },
  "varInspector": {
   "cols": {
    "lenName": 16,
    "lenType": 16,
    "lenVar": 40
   },
   "kernels_config": {
    "python": {
     "delete_cmd_postfix": "",
     "delete_cmd_prefix": "del ",
     "library": "var_list.py",
     "varRefreshCmd": "print(var_dic_list())"
    },
    "r": {
     "delete_cmd_postfix": ") ",
     "delete_cmd_prefix": "rm(",
     "library": "var_list.r",
     "varRefreshCmd": "cat(var_dic_list()) "
    }
   },
   "position": {
    "height": "598.85px",
    "left": "1223px",
    "right": "20px",
    "top": "121px",
    "width": "353px"
   },
   "types_to_exclude": [
    "module",
    "function",
    "builtin_function_or_method",
    "instance",
    "_Feature"
   ],
   "window_display": false
  }
 },
 "nbformat": 4,
 "nbformat_minor": 2
}