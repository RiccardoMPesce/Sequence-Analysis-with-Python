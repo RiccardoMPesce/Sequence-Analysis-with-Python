{
 "cells": [
  {
   "cell_type": "markdown",
   "metadata": {},
   "source": [
    "# Sequence Analysis with Python\n",
    "\n",
    "Author: Riccardo Maria Pesce (riccardompesce@gmail.com)\n",
    "\n",
    "Contact: Veli MÃƒÆ’Ã‚Â¤kinen veli.makinen@helsinki.fi"
   ]
  },
  {
   "cell_type": "markdown",
   "metadata": {},
   "source": [
    "The following assignments introduce applications of hashing with ```dict()``` primitive of Python. While doing so, a rudimentary introduction to biological sequences is given. \n",
    "This framework is then enhanced with probabilities, leading to routines to generate random sequences under some constraints, including a general concept of *Markov-chains*. All these components illustrate the usage of ```dict()```, but at the same time introduce some other computational routines to efficiently deal with probabilities.   \n",
    "The function ```collections.defaultdict``` can be useful.\n",
    "\n",
    "Below are some \"suggested\" imports. Feel free to use and modify these, or not. Generally it's good practice to keep most or all imports in one place. Typically very close to the start of notebooks."
   ]
  },
  {
   "cell_type": "code",
   "execution_count": null,
   "metadata": {
    "pycharm": {
     "is_executing": true
    }
   },
   "outputs": [],
   "source": [
    "from collections import defaultdict\n",
    "from itertools import product\n",
    "\n",
    "import numpy as np\n",
    "from numpy.random import choice"
   ]
  },
  {
   "cell_type": "markdown",
   "metadata": {},
   "source": [
    "The automated TMC tests do not test cell outputs. These are intended to be evaluated in the peer reviews. So it is still be a good idea to make the outputs as clear and informative as possible.\n",
    "\n",
    "To keep TMC tests running as well as possible it is recommended to keep global variable assignments in the notebook to a minimum to avoid potential name clashes and confusion. Additionally you should keep all actual code exection in main guards to keep the test running smoothly. If you run [check_sequence.py](https://raw.githubusercontent.com/saskeli/data-analysis-with-python-summer-2019/master/check_outputs.py) in the `part07-e01_sequence_analysis` folder, the script should finish very quickly and optimally produce no output.\n",
    "\n",
    "If you download data from the internet during execution (codon usage table), the parts where downloading is done should not work if you decide to submit to the tmc server. Local tests should work fine."
   ]
  },
  {
   "cell_type": "markdown",
   "metadata": {},
   "source": [
    "## DNA and RNA\n",
    "\n",
    "A DNA molecule consist, in principle, of a chain of smaller molecules. These smaller molecules have some common basic components (bases) that repeat. For our purposes it is sufficient to know that these bases are nucleotides adenine, cytosine, guanine, and thymine with abbreviations ```A```, ```C```, ```G```, and ```T```. Given a *DNA sequence* e.g. ```ACGATGAGGCTCAT```, one can reverse engineer (with negligible loss of information) the corresponding DNA molecule.\n",
    "\n",
    "Parts of a DNA molecule can *transcribe* into an RNA molecule. In this process, thymine gets replaced by uracil (```U```). \n",
    "\n",
    "\n",
    "1. Write a function ```dna_to_rna``` to convert a given DNA sequence $s$ into an RNA sequence. For the sake of exercise, use ```dict()``` to store the symbol to symbol encoding rules. Create a program to test your function."
   ]
  },
  {
   "cell_type": "code",
   "execution_count": null,
   "metadata": {
    "pycharm": {
     "is_executing": true
    }
   },
   "outputs": [],
   "source": [
    "def dna_to_rna(s):\n",
    "    to_dict = {\"T\": \"U\", \"A\": \"A\", \"G\": \"G\", \"C\": \"C\"}\n",
    "\n",
    "    return \"\".join([to_dict[ch] for ch in s])\n",
    "    \n",
    "if __name__ == '__main__':\n",
    "    print(dna_to_rna(\"AACGTGATTTC\"))"
   ]
  },
  {
   "cell_type": "markdown",
   "metadata": {},
   "source": [
    "### Idea of solution\n",
    "\n",
    "Trascribing a DNA sequence into RNA can be achieved by replacing each \"T\" (thymine) with \"U\" (uracil). As the problem requested, let's use a `dict` to store DNA-RNA correspondences, and with the aid of the `join` method, we can build up the RNA string, by first mapping in a list each character of the DNA string."
   ]
  },
  {
   "cell_type": "markdown",
   "metadata": {},
   "source": [
    "### Discussion\n",
    "\n",
    "As we can see from the output, and comparing the result with an online DNA to RNA transcriber, we can see that our function works correctly.t two lines of code, we achieved a good result in converting DNA to RNA, as we can see from above output."
   ]
  },
  {
   "cell_type": "markdown",
   "metadata": {},
   "source": [
    "## Proteins\n",
    "\n",
    "Like DNA and RNA, protein molecule can be interpreted as a chain of smaller molecules, where the bases are now amino acids. RNA molecule may *translate* into a protein molecule, but instead of base by base, three bases of RNA correspond to one base of protein. That is, RNA sequence is read triplet (called codon) at a time. \n",
    "\n",
    "2. Consider the codon to amino acid conversion table in http://www.kazusa.or.jp/codon/cgi-bin/showcodon.cgi?species=9606&aa=1&style=N. Write a function ```get_dict``` to read the table into a ```dict()```, such that for each RNA sequence of length 3, say $\\texttt{AGU}$, the hash table stores the conversion rule to the corresponding amino acid. You may store the html page to your local src directory,\n",
    "and parse that file."
   ]
  },
  {
   "cell_type": "code",
   "execution_count": null,
   "metadata": {
    "pycharm": {
     "is_executing": true
    }
   },
   "outputs": [],
   "source": [
    "# Importing necessary libraries to implement get_dict()\n",
    "import urllib, re\n",
    "\n",
    "from bs4 import BeautifulSoup\n",
    "\n",
    "def get_dict():\n",
    "    # Parsing the data and turning it into a BeautifulSoup object\n",
    "    page_url = \"http://www.kazusa.or.jp/codon/cgi-bin/showcodon.cgi?species=9606&aa=1&style=N\"\n",
    "\n",
    "    page = urllib.request.urlopen(page_url)\n",
    "    soup = BeautifulSoup(page, \"html.parser\")\n",
    "\n",
    "    # Parsing the actual content we are interested, i.e. the table between <pre></pre> tags\n",
    "    pre_content = soup.find(\"pre\")\n",
    "    text_content = pre_content.text.strip()\n",
    "\n",
    "    # Extracting the informations we are interested in\n",
    "    dna_seqs = re.findall(r\"[A-Z][A-Z][A-Z]\", text_content)\n",
    "    amino_acids = re.findall(r\" ([A-Z]|[*]) \", text_content)\n",
    "\n",
    "    # Returning the dict result\n",
    "    return dict(zip(dna_seqs, amino_acids))\n",
    "    \n",
    "if __name__ == '__main__':\n",
    "    codon_to_aa = get_dict()\n",
    "    print(codon_to_aa)"
   ]
  },
  {
   "cell_type": "markdown",
   "metadata": {},
   "source": [
    "### Idea of solution\n",
    "By using `urllib` and `BeautifulSoup`, we are going to parse the table in the given web_page. \n",
    "We are going to extract the content of the `pre` HTML tag and turn it into a long string, stripped from the whitespace characters.\n",
    "By using RegEx, we are going to parse from such long string the relevant info, and we are going to build the requested dict from them.\n",
    "In the notebook `scrape.ipynb` I wrote a full walkthrough of the code."
   ]
  },
  {
   "cell_type": "markdown",
   "metadata": {},
   "source": [
    "### Discussion\n",
    "As we can see, the solution works. In a few lines of code, we were able to parse the web page and the requested informations. However, we used a third party library and we sacrificed clarity by using regex. But that is not a great issue."
   ]
  },
  {
   "cell_type": "markdown",
   "metadata": {},
   "source": [
    "3. Use the same conversion table as above, but now write function `get_dict_list` to read the table into a `dict()`, such that for each amino acid the hash table stores the list of codons encoding it.    "
   ]
  },
  {
   "cell_type": "code",
   "execution_count": null,
   "metadata": {
    "pycharm": {
     "is_executing": true
    }
   },
   "outputs": [],
   "source": [
    "def get_dict_list():\n",
    "    d = get_dict()\n",
    "    reverse = {}\n",
    "\n",
    "    for v, k in d.items():\n",
    "        if k not in reverse.keys():\n",
    "            reverse[k] = []\n",
    "\n",
    "        reverse[k].append(v)\n",
    "\n",
    "    return reverse\n",
    "    \n",
    "if __name__ == '__main__':\n",
    "    aa_to_codons = get_dict_list()\n",
    "    print(aa_to_codons)"
   ]
  },
  {
   "cell_type": "markdown",
   "metadata": {},
   "source": [
    "### Idea of solution\n",
    "\n",
    "The idea is simple: reversing the dictionary, but each value will be a list, since an amino acid can be a translation of different codons. The code is quite clear: for each key-value pair, if value is not present in the dict we want to return, we create that entry with an empty list which will later be filled."
   ]
  },
  {
   "cell_type": "markdown",
   "metadata": {},
   "source": [
    "### Discussion\n",
    "\n",
    "The code works well. One thing that might be adjusted but for sake of order I won't really do is the fact that one-element lists can be turned into single elements."
   ]
  },
  {
   "cell_type": "markdown",
   "metadata": {},
   "source": [
    "With the conversion tables at hand, the following should be trivial to solve.\n",
    "\n",
    "4. Fill in function ```rna_to_prot``` in the stub solution to convert a given DNA sequence $s$ into a protein sequence. \n",
    "You may use the dictionaries from exercises 2 and 3. You can test your program with `ATGATATCATCGACGATGTAG`."
   ]
  },
  {
   "cell_type": "code",
   "execution_count": 6,
   "metadata": {},
   "outputs": [
    {
     "output_type": "stream",
     "name": "stdout",
     "text": "MISSTM*\n"
    }
   ],
   "source": [
    "\n",
    "def rna_to_prot(s):\n",
    "    d = get_dict()\n",
    "\n",
    "    # Let's split s every 3 character so we can use our dict to convert each single sequence, and then we will join it\n",
    "    splitted = [s[i:i + 3] for i in range(0, len(s), 3)]\n",
    "\n",
    "    return \"\".join([d[seq] for seq in splitted])\n",
    "\n",
    "def dna_to_prot(s):\n",
    "    return rna_to_prot(dna_to_rna(s))\n",
    "\n",
    "if __name__ == '__main__':\n",
    "    print(dna_to_prot(\"ATGATATCATCGACGATGTAG\"))"
   ]
  },
  {
   "cell_type": "markdown",
   "metadata": {},
   "source": [
    "### Idea of solution\n",
    "\n",
    "The idea is to split the sequence `s` into sub-sequences of length 3 each, and map these sub-sequences using the dictionary returned by `get_dict()` into proteins."
   ]
  },
  {
   "cell_type": "markdown",
   "metadata": {},
   "source": [
    "### Discussion\n",
    "\n",
    "Code works, but it can be improved a little bit in clarity, for example defining the joined list outside of the method call."
   ]
  },
  {
   "cell_type": "markdown",
   "metadata": {},
   "source": [
    "You may notice that there are $4^3=64$ different codons, but only 20 amino acids. That is, some triplets encode the same amino acid.  "
   ]
  },
  {
   "cell_type": "markdown",
   "metadata": {},
   "source": [
    "## Reverse translation\n",
    "\n",
    "It has been observed that among the codons coding the same amino acid, some are more frequent than others. These frequencies can be converted to probabilities. E.g. consider codons `AUU`, `AUC`, and `AUA` that code for amino acid isoleucine.\n",
    "If they are observed, say, 36, 47, 17 times, respectively, to code isoleucine in a dataset, the probability that a random such event is `AUU` $\\to$ isoleucine is 36/100.\n",
    "\n",
    "This phenomenon is called *codon adaptation*, and for our purposes it works as a good introduction to generation of random sequences under constraints.   \n",
    "\n",
    "5. Consider the codon adaptation frequencies in http://www.kazusa.or.jp/codon/cgi-bin/showcodon.cgi?species=9606&aa=1&style=N and read them into a ```dict()```, such that for each RNA sequence of length 3, say `AGU`, the hash table stores the probability of that codon among codons encoding the same amino acid.\n",
    "Put your solution in the ```get_probabability_dict``` function."
   ]
  },
  {
   "cell_type": "code",
   "execution_count": 7,
   "metadata": {},
   "outputs": [
    {
     "output_type": "stream",
     "name": "stdout",
     "text": "AAA: 0.433393\tAAC: 0.529086\tAAG: 0.566607\tAAU: 0.470914\tACA: 0.283835\tACC: 0.355263\nACG: 0.114662\tACU: 0.246241\tAGA: 0.215168\tAGC: 0.240444\tAGG: 0.211640\tAGU: 0.149199\nAUA: 0.169300\tAUC: 0.469526\tAUG: 1.000000\tAUU: 0.361174\tCAA: 0.264516\tCAC: 0.580769\nCAG: 0.735484\tCAU: 0.419231\tCCA: 0.276596\tCCC: 0.324059\tCCG: 0.112930\tCCU: 0.286416\nCGA: 0.109347\tCGC: 0.183422\tCGG: 0.201058\tCGU: 0.079365\tCUA: 0.071856\tCUC: 0.195609\nCUG: 0.395210\tCUU: 0.131737\tGAA: 0.422741\tGAC: 0.535181\tGAG: 0.577259\tGAU: 0.464819\nGCA: 0.227994\tGCC: 0.399711\tGCG: 0.106782\tGCU: 0.265512\tGGA: 0.250000\tGGC: 0.336364\nGGG: 0.250000\tGGU: 0.163636\tGUA: 0.116969\tGUC: 0.238880\tGUG: 0.462932\tGUU: 0.181219\nUAA: 0.294118\tUAC: 0.556364\tUAG: 0.235294\tUAU: 0.443636\tUCA: 0.150432\tUCC: 0.218249\nUCG: 0.054254\tUCU: 0.187423\tUGA: 0.470588\tUGC: 0.543103\tUGG: 1.000000\tUGU: 0.456897\nUUA: 0.076846\tUUC: 0.535620\tUUG: 0.128743\tUUU: 0.464380\n"
    }
   ],
   "source": [
    "\n",
    "def get_probability_dict():\n",
    "    # Parsing the data and turning it into a BeautifulSoup object\n",
    "    page_url = \"http://www.kazusa.or.jp/codon/cgi-bin/showcodon.cgi?species=9606&aa=1&style=N\"\n",
    "\n",
    "    page = urllib.request.urlopen(page_url)\n",
    "    soup = BeautifulSoup(page, \"html.parser\")\n",
    "\n",
    "    # Parsing the actual content we are interested, i.e. the table between <pre></pre> tags\n",
    "    pre_content = soup.find(\"pre\")\n",
    "    text_content = pre_content.text.strip()\n",
    "\n",
    "    # Extracting the informations we are interested in\n",
    "    dna_seqs = re.findall(r\"[A-Z][A-Z][A-Z]\", text_content)\n",
    "    freqs = re.findall(r\" (\\d+\\.\\d) \\(\", text_content)\n",
    "    amino = re.findall(r\" ([A-Z]|\\*) \", text_content)\n",
    "\n",
    "    # Calculating fractions from frequencies\n",
    "    probs = [float(freq) / 1000 for freq in freqs]\n",
    "\n",
    "    # Calculating cumulative probability for each amino\n",
    "    amino_prob = {}\n",
    "    for i, a in enumerate(amino):\n",
    "        if a not in amino_prob.keys():\n",
    "            amino_prob[a] = 0\n",
    "        \n",
    "        amino_prob[a] += probs[i]\n",
    "\n",
    "    # Calculating the actual probabilities so that for each amino-acid the sequences probabilities sum up to 1\n",
    "    dna_probs = dict(zip(dna_seqs, probs))\n",
    "    dna_amino = dict(zip(dna_seqs, amino))\n",
    "    seqs_probs = {}\n",
    "    for dna, amino in dna_amino.items():\n",
    "        seqs_probs[dna] = dna_probs[dna] / amino_prob[amino]\n",
    "\n",
    "    # Returning the dict result\n",
    "    return seqs_probs\n",
    "    \n",
    "if __name__ == '__main__':\n",
    "    codon_to_prob = get_probability_dict()\n",
    "    items = sorted(codon_to_prob.items(), key=lambda x: x[0])\n",
    "    for i in range(1 + len(items)//6):\n",
    "        print(\"\\t\".join(\n",
    "            f\"{k}: {v:.6f}\"\n",
    "            for k, v in items[i*6:6+i*6]\n",
    "        ))"
   ]
  },
  {
   "cell_type": "markdown",
   "metadata": {},
   "source": [
    "### Idea of solution\n",
    "\n",
    "The function will be similar to `get_dict()` with the only difference being the field we are parsing this time, which is the frequency in the fourth column. We will map the parsed probabilities into `float`, since they're initially parsed into strings.\n",
    "The function will then calculate the relative (for each amino-acid) percentages one the normalized frequencies. Once that is finished, the probabilities are calculated for each amino."
   ]
  },
  {
   "cell_type": "markdown",
   "metadata": {},
   "source": [
    "### Discussion\n",
    "\n",
    "As we can see from the output, the function worked perfectly."
   ]
  },
  {
   "cell_type": "markdown",
   "metadata": {},
   "source": [
    "Now you should have everything in place to easily solve the following.\n",
    "\n",
    "\n",
    "6. Write a class ```ProteinToMaxRNA``` with a ```convert``` method which converts a protein sequence into the most likely RNA sequence to be the source of this protein. Run your program with `LTPIQNRA`."
   ]
  },
  {
   "cell_type": "code",
   "execution_count": 8,
   "metadata": {},
   "outputs": [
    {
     "output_type": "stream",
     "name": "stdout",
     "text": "CUGACCCCCAUCCAGAACAGAGCC\n"
    }
   ],
   "source": [
    "class ProteinToMaxRNA:\n",
    "    \n",
    "    def __init__(self):\n",
    "        pass\n",
    "\n",
    "    def convert(self, s):\n",
    "        prob_dict = get_probability_dict()\n",
    "        prot_to_rna = get_dict_list()\n",
    "\n",
    "        most_prob_seq = []\n",
    "\n",
    "        for prot in s:\n",
    "            prob_seqs = prot_to_rna[prot]\n",
    "            most_prob = prob_seqs[0]\n",
    "\n",
    "            for seq in prob_seqs:\n",
    "                if prob_dict[seq] > prob_dict[most_prob]:\n",
    "                    most_prob = seq\n",
    "\n",
    "            most_prob_seq.append(most_prob)\n",
    "\n",
    "        return \"\".join(most_prob_seq)\n",
    "\n",
    "\n",
    "if __name__ == '__main__':\n",
    "    protein_to_rna = ProteinToMaxRNA()\n",
    "    print(protein_to_rna.convert(\"LTPIQNRA\"))"
   ]
  },
  {
   "cell_type": "markdown",
   "metadata": {},
   "source": [
    "### Idea of solution\n",
    "\n",
    "The class method `convert()` maps each protein sequence into the most likely RNA sequence by first getting the probabilities and protein-to-rna dictionaries, and then for each protein in the sequence s, we get the one with the highest probability."
   ]
  },
  {
   "cell_type": "markdown",
   "metadata": {},
   "source": [
    "### Discussion\n",
    "\n",
    "Using the [translation tool](http://biomodel.uah.es/en/lab/cybertory/analysis/trans.htm), we translate the result given by the function, and we can see it is exactly the protein sequence given.\n",
    "\n"
   ]
  },
  {
   "cell_type": "markdown",
   "metadata": {},
   "source": [
    "Now we are almost ready to produce random RNA sequences that code a given protein sequence. For this, we need a subroutine to *sample from a probability distribution*. Consider our earlier example of probabilities 36/100, 47/100, and 17/100 for `AUU`, `AUC`, and `AUA`, respectively. \n",
    "Let us assume we have a random number generator ```random()``` that returns a random number from interval $[0,1)$. We may then partition the unit interval according to cumulative probabilities to $[0,36/100), [36/100,83/100), [83/100,1)$, respectively. Depending which interval the number ```random()``` hits, we select the codon accordingly.\n",
    "\n",
    "7. Write a function ```random_event``` that chooses a random event, given a probability distribution (set of events whose probabilities sum to 1).\n",
    "You can use function ```random.uniform``` to produce values uniformly at random from the range $[0,1)$. The distribution should be given to your function as a dictionary from events to their probabilities."
   ]
  },
  {
   "cell_type": "code",
   "execution_count": 9,
   "metadata": {},
   "outputs": [
    {
     "output_type": "stream",
     "name": "stdout",
     "text": "A, C, C, C, A, C, C, T, C, C, T, A\n"
    }
   ],
   "source": [
    "def random_event(dist):\n",
    "    \"\"\"\n",
    "    Takes as input a dictionary from events to their probabilities.\n",
    "    Return a random event sampled according to the given distribution.\n",
    "    The probabilities must sum to 1.0\n",
    "    \"\"\"\n",
    "    cum_dist = {}\n",
    "    start = 0.00\n",
    "\n",
    "    for event, prob in dist.items():\n",
    "        cum_dist[event] = [start, np.round(prob + start, 2)]\n",
    "        start = np.round(start + prob, 2)\n",
    "\n",
    "    r = np.random.uniform()\n",
    "\n",
    "    for event in cum_dist.keys():\n",
    "        if r >= cum_dist[event][0] and r < cum_dist[event][1]:\n",
    "            return event\n",
    "\n",
    "    \n",
    "\n",
    "if __name__ == '__main__':\n",
    "    distribution = dict(zip(\"ACGT\", [0.10, 0.35, 0.15, 0.40]))\n",
    "    print(\", \".join(random_event(distribution) for _ in range(12)))"
   ]
  },
  {
   "cell_type": "markdown",
   "metadata": {},
   "source": [
    "### Idea of solution\n",
    "\n",
    "The function will first calculate the cumulative distribution, including for each protein the beginning and the end of the \"bin\" to which such protein belongs to. Then samples uniformly a random number from 0 to 1, and check in which bin it falls, returning the relative protein."
   ]
  },
  {
   "cell_type": "markdown",
   "metadata": {},
   "source": [
    "### Discussion\n",
    "\n",
    "The function samples according to the proteins own probabilities, therefore it is correct"
   ]
  },
  {
   "cell_type": "markdown",
   "metadata": {},
   "source": [
    "With this general routine, the following should be easy to solve.\n",
    " \n",
    "8. Write a class ```ProteinToRandomRNA``` to produce a random RNA sequence encoding the input protein sequence according to the input codon adaptation probabilities. The actual conversion is done through the ```convert``` method. Run your program with `LTPIQNRA`."
   ]
  },
  {
   "cell_type": "code",
   "execution_count": 10,
   "metadata": {},
   "outputs": [
    {
     "output_type": "stream",
     "name": "stdout",
     "text": "UUAACUCCUAUUCAGAAUAGGGCC\n"
    }
   ],
   "source": [
    "class ProteinToRandomRNA(object):\n",
    "    \n",
    "    def __init__(self):\n",
    "        pass\n",
    "\n",
    "    def convert(self, s):\n",
    "        probs_dict = get_probability_dict()\n",
    "        prot_to_rna = get_dict_list()\n",
    "\n",
    "        rand_seq = []\n",
    "\n",
    "        for prot in s:\n",
    "            translations = prot_to_rna[prot]\n",
    "            probs = [probs_dict[seq] for seq in translations]\n",
    "            \n",
    "            dist = dict(zip(translations, probs))\n",
    "\n",
    "            rand_seq.append(random_event(dist))\n",
    "\n",
    "        return \"\".join(rand_seq)\n",
    "\n",
    "\n",
    "        \n",
    "if __name__ == '__main__':\n",
    "    protein_to_random_codons = ProteinToRandomRNA()\n",
    "    print(protein_to_random_codons.convert(\"LTPIQNRA\"))"
   ]
  },
  {
   "cell_type": "markdown",
   "metadata": {},
   "source": [
    "### Idea of solution\n",
    "\n",
    "The method is similiar to the previous one, with the sole exception that instead of using the most probable RNA, the function uses the previously defined random event to sample from the cumulative distribution of each RNA."
   ]
  },
  {
   "cell_type": "markdown",
   "metadata": {},
   "source": [
    "### Discussion\n",
    "\n",
    "The function seems to sample according to the amino-acids distributions."
   ]
  },
  {
   "cell_type": "markdown",
   "metadata": {},
   "source": [
    "## Generating DNA sequences with higher-order Markov chains\n",
    "\n",
    "We will now reuse the machinery derived above in a related context. We go back to DNA sequences, and consider some easy statistics that can be used to characterize the sequences. \n",
    "First, just the frequencies of bases $\\texttt{A}$, $\\texttt{C}$, $\\texttt{G}$, $\\texttt{T}$ may reveal the species from which the input DNA originates; each species has a different base composition that has been formed during evolution. \n",
    "More interestingly, the areas where DNA to RNA transcription takes place (coding region) have an excess of $\\texttt{C}$ and $\\texttt{G}$ over $\\texttt{A}$ and $\\texttt{T}$. To detect such areas a common routine is to just use a *sliding window* of fixed size, say $k$, and compute for each window position \n",
    "$T[i..i+k-1]$ the base frequencies, where $T[1..n]$ is the input DNA sequence. When sliding the window from  $T[i..i+k-1]$ to $T[i+1..i+k]$ frequency $f(T[i])$ gets decreases by one and $f(T[i+k])$ gets increased by one. \n",
    "\n",
    "9. Write a *generator* ```sliding_window``` to compute sliding window base frequencies so that each moving of the window takes constant time. We saw in the beginning of the course one way how to create generators using\n",
    "  generator expression. Here we use a different way. For the function ```sliding_window``` to be a generator, it must have at least   one ```yield``` expression, see [https://docs.python.org/3/reference/expressions.html#yieldexpr](https://docs.python.org/3/reference/expressions.html#yieldexpr).\n",
    "  \n",
    "  Here is an example of a generator expression that works similarily to the built in `range` generator:\n",
    "  ```Python\n",
    "  def range(a, b=None, c=1):\n",
    "      current = 0 if b == None else a\n",
    "      end = a if b == None else b\n",
    "      while current < end:\n",
    "          yield current\n",
    "          current += c\n",
    "  ```\n",
    "  A yield expression can be used to return a value and *temporarily* return from the function."
   ]
  },
  {
   "cell_type": "code",
   "execution_count": 11,
   "metadata": {},
   "outputs": [
    {
     "output_type": "stream",
     "name": "stdout",
     "text": "{'T': 1, 'C': 3}\n{'C': 3, 'G': 1}\n{'C': 2, 'G': 1, 'A': 1}\n{'C': 2, 'G': 1, 'A': 1}\n{'G': 2, 'A': 1, 'C': 1}\n{'A': 1, 'C': 1, 'G': 2}\n{'C': 2, 'G': 2}\n{'G': 2, 'C': 2}\n{'G': 1, 'C': 2, 'T': 1}\n{'C': 2, 'T': 2}\n{'C': 1, 'T': 2, 'G': 1}\n{'T': 2, 'G': 1, 'C': 1}\n"
    }
   ],
   "source": [
    "def sliding_window(s, k):\n",
    "    \"\"\"\n",
    "    This function returns a generator that can be iterated over all\n",
    "    starting position of a k-window in the sequence.\n",
    "    For each starting position the generator returns the nucleotide frequencies\n",
    "    in the window as a dictionary.\n",
    "    \"\"\"\n",
    "    i = 0\n",
    "\n",
    "    while i + k < len(s):\n",
    "        freqs = {}\n",
    "\n",
    "        for prot in s[i:i + k]:\n",
    "            if prot not in freqs.keys():\n",
    "                freqs[prot] = 0\n",
    "            \n",
    "            freqs[prot] += 1\n",
    "\n",
    "        yield freqs \n",
    "\n",
    "        freqs[s[i]] -= 1\n",
    "\n",
    "        if s[i + k] not in freqs.keys():\n",
    "            freqs[s[i + k]] = 0\n",
    "\n",
    "        freqs[s[i + k]] += 1\n",
    "\n",
    "        i += 1\n",
    "        \n",
    "    \n",
    "if __name__ == '__main__':\n",
    "    s = \"TCCCGACGGCCTTGCC\"\n",
    "    for d in sliding_window(s, 4):\n",
    "        print(d)"
   ]
  },
  {
   "cell_type": "markdown",
   "metadata": {},
   "source": [
    "### Idea of solution\n",
    "\n",
    "For each substring of size `k`, the function is going to compute how many times each single nucletoide is present, and will store this information in a dictionary, whose key is the nucletoide and the value is the frequency."
   ]
  },
  {
   "cell_type": "markdown",
   "metadata": {},
   "source": [
    "### Discussion\n",
    "\n",
    "The functions showed the correct frequencies for each window."
   ]
  },
  {
   "cell_type": "markdown",
   "metadata": {},
   "source": [
    " \n",
    "Our models so far have been so-called *zero-order* models, as each event has been independent of other events. With sequences, the dependencies of events are naturally encoded by their *contexts*. Considering that a sequence is produced from left-to-right, a *first-order* context for $T[i]$ is $T[i-1]$, that is, the immediately preceding symbol. *First-order Markov chain* is a sequence produced by generating $c=T[i]$ with the probability of event of seeing symbol $c$ after previously generated symbol $a=T[i-1]$. The first symbol of the chain is sampled according to the zero-order model.  \n",
    "The first-order model can naturally be extended to contexts of length $k$, with $T[i]$ depending on $T[i-k..i-1]$. Then the first $k$ symbols of the chain are sampled according to the zero-order model.  The following assignments develop the routines to work with the *higher-order Markov chains*. \n",
    "In what follows, a $k$-mer is a substring $T[i..i+k-1]$ of the sequence at an arbitrary position. \n",
    "\n",
    "10. Write function ```context_list``` that given an input DNA sequence $T$ associates to each $k$-mer $W$ the concatenation of all symbols $c$ that appear after context $W$ in $T$, that is, $T[i..i+k]=Wc$. For example, <span style=\"color:red; font:courier;\">GA</span> is associated to <span style=\"color:blue; font: courier;\">TCT</span> in $T$=<span style=\"font: courier;\">AT<span style=\"color:red;\">GA</span><span style=\"color:blue;\">T</span>ATCATC<span style=\"color:red;\">GA</span><span style=\"color:blue;\">C</span><span style=\"color:red;\">GA</span><span style=\"color:blue;\">T</span>GTAG</span>, when $k=2$."
   ]
  },
  {
   "cell_type": "code",
   "execution_count": 12,
   "metadata": {},
   "outputs": [
    {
     "output_type": "stream",
     "name": "stdout",
     "text": "{'AT': 'GACCC', 'TG': 'A', 'GA': 'TCT', 'TA': 'TG', 'TC': 'AGT', 'CA': 'T', 'CG': 'AA', 'AC': 'G', 'CT': 'A'}\n"
    }
   ],
   "source": [
    "def context_list(s, k):\n",
    "    i = 0\n",
    "    contextes = {}\n",
    "\n",
    "    while i + k < len(s):\n",
    "        context = s[i:i + k]\n",
    "        if context in contextes.keys():\n",
    "            contextes[context] = \"\".join(list(contextes[context]) + [s[i + k]])\n",
    "        else:\n",
    "            contextes[context] = s[i + k]\n",
    "        i += 1\n",
    "\n",
    "    return contextes\n",
    "    \n",
    "if __name__ == '__main__':\n",
    "    k = 2\n",
    "    s = \"ATGATATCATCGACGATCTAG\"\n",
    "    d = context_list(s, k)\n",
    "    print(d)"
   ]
  },
  {
   "cell_type": "markdown",
   "metadata": {},
   "source": [
    "### Idea of solution\n",
    "\n",
    "The idea is to iterate through each k-mer, and store in a dict whose keys are the former the string with each context."
   ]
  },
  {
   "cell_type": "markdown",
   "metadata": {},
   "source": [
    "### Discussion\n",
    "\n",
    "The output of the function satisfies the requirements."
   ]
  },
  {
   "cell_type": "markdown",
   "metadata": {},
   "source": [
    "11. With the above solution, write function ```context_probabilities``` to count the frequencies of symbols in each context and convert these frequencies into probabilities. Run `context_probabilities` with $T=$ `ATGATATCATCGACGATGTAG` and $k$ values 0 and 2."
   ]
  },
  {
   "cell_type": "code",
   "execution_count": 13,
   "metadata": {},
   "outputs": [
    {
     "output_type": "stream",
     "name": "stdout",
     "text": "{'': {'A': 0.3333333333333333, 'T': 0.2857142857142857, 'G': 0.23809523809523808, 'C': 0.14285714285714285}}\n{'AT': {'G': 0.4, 'A': 0.2, 'C': 0.4}, 'TG': {'A': 0.5, 'T': 0.5}, 'GA': {'T': 0.6666666666666666, 'C': 0.3333333333333333}, 'TA': {'T': 0.5, 'G': 0.5}, 'TC': {'A': 0.5, 'G': 0.5}, 'CA': {'T': 1.0}, 'CG': {'A': 1.0}, 'AC': {'G': 1.0}, 'GT': {'A': 1.0}}\n"
    }
   ],
   "source": [
    "def context_probabilities(s, k):\n",
    "    context_probs = {}\n",
    "\n",
    "    for k, v in context_list(s, k).items():\n",
    "        context_probs[k] = {ch: v.count(ch) / len(v) for ch in v}\n",
    "\n",
    "    return context_probs\n",
    "\n",
    "    \n",
    "if __name__ == '__main__':\n",
    "    k = 0\n",
    "    s = \"ATGATATCATCGACGATGTAG\"\n",
    "    print(context_probabilities(s, k))\n",
    "    k = 2\n",
    "    print(context_probabilities(s, k))"
   ]
  },
  {
   "cell_type": "markdown",
   "metadata": {},
   "source": [
    "### Idea of solution\n",
    "\n",
    "The function should count the total number of contextes together with contextes themselves and then it should convert these frequencies into probabilities, by dividing the number of occurrences of each element by the total number of contextes."
   ]
  },
  {
   "cell_type": "markdown",
   "metadata": {},
   "source": [
    "### Discussion\n",
    "\n",
    "The function does what said above, and the output seems coherent with the requirements of the function."
   ]
  },
  {
   "cell_type": "markdown",
   "metadata": {},
   "source": [
    "12. With the above solution and the function ```random_event``` from the earlier exercise, write class ```MarkovChain```. Its ```generate``` method should generate a random DNA sequence following the original $k$-th order Markov chain probabilities. "
   ]
  },
  {
   "cell_type": "code",
   "execution_count": 14,
   "metadata": {},
   "outputs": [
    {
     "output_type": "stream",
     "name": "stdout",
     "text": "TGTATGATGA\n"
    }
   ],
   "source": [
    "class MarkovChain:\n",
    "    \n",
    "    def __init__(self, zeroth, kth, k=2):\n",
    "        self.k = k\n",
    "        self.zeroth = zeroth\n",
    "        self.kth = kth\n",
    "        \n",
    "    def generate(self, n, seed=None):\n",
    "        np.random.seed(seed)\n",
    "        \n",
    "        seq = []\n",
    "        i = 0\n",
    "\n",
    "        while i < n:\n",
    "            while i < k:\n",
    "                seq.append(random_event(zeroth,))\n",
    "                i += 1\n",
    "            \n",
    "            ctx = \"\".join(seq[i - 2:i])\n",
    "            seq.append(random_event(kth[ctx]))\n",
    "            \n",
    "            i += 1\n",
    "\n",
    "        return \"\".join(seq)\n",
    "            \n",
    "\n",
    "\n",
    "if __name__ == '__main__':\n",
    "    zeroth = {'A': 0.2, 'C': 0.19, 'T': 0.31, 'G': 0.3}\n",
    "    kth = {'GT': {'A': 1.0, 'C': 0.0, 'T': 0.0, 'G': 0.0},\n",
    "           'CA': {'A': 0.0, 'C': 0.0, 'T': 1.0, 'G': 0.0},\n",
    "           'TC': {'A': 0.5, 'C': 0.0, 'T': 0.0, 'G': 0.5},\n",
    "           'GA': {'A': 0.0, 'C': 0.3333333333333333, 'T': 0.6666666666666666, 'G': 0.0},\n",
    "           'TG': {'A': 0.5, 'C': 0.0, 'T': 0.5, 'G': 0.0},\n",
    "           'AT': {'A': 0.2, 'C': 0.4, 'T': 0.0, 'G': 0.4},\n",
    "           'TA': {'A': 0.0, 'C': 0.0, 'T': 0.5, 'G': 0.5},\n",
    "           'AC': {'A': 0.0, 'C': 0.0, 'T': 0.0, 'G': 1.0},\n",
    "           'CG': {'A': 1.0, 'C': 0.0, 'T': 0.0, 'G': 0.0}}\n",
    "    n = 10    \n",
    "    seed = 0\n",
    "    mc = MarkovChain(zeroth, kth)\n",
    "    print(mc.generate(n, seed))"
   ]
  },
  {
   "cell_type": "markdown",
   "metadata": {},
   "source": [
    "### Idea of solution\n",
    "\n",
    "The function is required to initialize the given seed and then generate the first k element using the zeroth dict, proceeding to generating the rest using the given kth dict of dicts."
   ]
  },
  {
   "cell_type": "markdown",
   "metadata": {},
   "source": [
    "### Discussion\n",
    "\n",
    "The function seems to generate a legit sequence number."
   ]
  },
  {
   "cell_type": "markdown",
   "metadata": {},
   "source": [
    "If you have survived so far without problems, please run your program a few more times with different inputs. At some point you should get a lookup error in your hash-table! The reason for this is not your code, but the way we defined the model: Some $k$-mers may not be among the training data (input sequence $T$), but such can be generated as the first $k$-mer that is generated using the zero-order model.  \n",
    "\n",
    "A general approach to fixing such issues with incomplete training data is to use *pseudo counts*. That is, all imaginable events are initialized to frequency count 1.   \n",
    "\n",
    "13. Write a new solution `context_pseudo_probabilities` based on the solution to problem 11. But this time use pseudo counts in order to obtain a $k$-th order Markov chain that can assign a probability for any DNA sequence. You may use the standard library function `itertools.product` to iterate over all $k$-mer of given length (`product(\"ACGT\", repeat=k)`)."
   ]
  },
  {
   "cell_type": "code",
   "execution_count": 15,
   "metadata": {},
   "outputs": [
    {
     "output_type": "stream",
     "name": "stdout",
     "text": "['CC', 'CG', 'CT', 'CA', 'GC', 'GG', 'GT', 'GA', 'TC', 'TG', 'TT', 'TA', 'AC', 'AG', 'AT', 'AA']\n['']\nzeroth: {'A': 0.3333333333333333, 'T': 0.2857142857142857, 'G': 0.23809523809523808, 'C': 0.14285714285714285}\nCC: {'C': 0.25, 'G': 0.25, 'T': 0.25, 'A': 0.25}\nCG: {'A': 1.0}\nCT: {'C': 0.25, 'G': 0.25, 'T': 0.25, 'A': 0.25}\nCA: {'T': 1.0}\nGC: {'C': 0.25, 'G': 0.25, 'T': 0.25, 'A': 0.25}\nGG: {'C': 0.25, 'G': 0.25, 'T': 0.25, 'A': 0.25}\nGT: {'A': 1.0}\nGA: {'T': 0.6666666666666666, 'C': 0.3333333333333333}\nTC: {'A': 0.5, 'G': 0.5}\nTG: {'A': 0.5, 'T': 0.5}\nTT: {'C': 0.25, 'G': 0.25, 'T': 0.25, 'A': 0.25}\nTA: {'T': 0.5, 'G': 0.5}\nAC: {'G': 1.0}\nAG: {'C': 0.25, 'G': 0.25, 'T': 0.25, 'A': 0.25}\nAT: {'G': 0.4, 'A': 0.2, 'C': 0.4}\nAA: {'C': 0.25, 'G': 0.25, 'T': 0.25, 'A': 0.25}\n\n ATAGATCGATCATCATGTAT\n"
    }
   ],
   "source": [
    "from itertools import product\n",
    "\n",
    "def context_pseudo_probabilities(s, k):\n",
    "    symbols = \"\".join(set(s))\n",
    "    context_probs = context_probabilities(s, k)\n",
    "    context_pseudo_probs = {}\n",
    "    k_mers = [\"\".join(t) for t in product(symbols, repeat=k)]\n",
    "    print(k_mers)\n",
    "\n",
    "    for k_mer in k_mers:\n",
    "        if k_mer not in s[:-1]:\n",
    "            context_pseudo_probs[k_mer] = {ch: symbols.count(ch) / len(symbols) for ch in symbols}\n",
    "        else:\n",
    "            context_pseudo_probs[k_mer] = context_probs[k_mer]\n",
    "\n",
    "    return context_pseudo_probs\n",
    "\n",
    "if __name__ == '__main__':\n",
    "    k = 2\n",
    "    s = \"ATGATATCATCGACGATGTAG\"\n",
    "    kth = context_pseudo_probabilities(s, k)\n",
    "    zeroth = context_pseudo_probabilities(s, 0)[\"\"]\n",
    "    print(f\"zeroth: {zeroth}\")\n",
    "    print(\"\\n\".join(f\"{k}: {dict(v)}\" for k, v in kth.items()))\n",
    "    \n",
    "    print(\"\\n\", MarkovChain(zeroth, kth, k).generate(20))"
   ]
  },
  {
   "cell_type": "markdown",
   "metadata": {},
   "source": [
    "### Idea of solution\n",
    "\n",
    "The function can leverage the previous function for the present k-mers, while it should initialize to uniform probabilities the absent k-mers."
   ]
  },
  {
   "cell_type": "markdown",
   "metadata": {},
   "source": [
    "### Discussion\n",
    "\n",
    "The function output is coherent to the description."
   ]
  },
  {
   "cell_type": "markdown",
   "metadata": {},
   "source": [
    "14. Write class ```MarkovProb``` that given the $k$-th order Markov chain developed above to the constructor, its method ```probability``` computes the probability of a given input DNA sequence."
   ]
  },
  {
   "cell_type": "code",
   "execution_count": 16,
   "metadata": {},
   "outputs": [
    {
     "output_type": "stream",
     "name": "stdout",
     "text": "['CC', 'CG', 'CT', 'CA', 'GC', 'GG', 'GT', 'GA', 'TC', 'TG', 'TT', 'TA', 'AC', 'AG', 'AT', 'AA']\n['']\nProbability of sequence ATGATATCATCGACGATGTAG is 2.257495590828924e-06\n"
    }
   ],
   "source": [
    "class MarkovProb:\n",
    "    def __init__(self, k, zeroth, kth):\n",
    "        self.k = k\n",
    "        self.zeroth = zeroth\n",
    "        self.kth = kth\n",
    "        \n",
    "    def probability(self, s):\n",
    "        prob = 1\n",
    "        i = 0\n",
    "\n",
    "        while i + self.k < len(s):\n",
    "            if i < self.k:\n",
    "                ctx = s[i]\n",
    "                prob *= zeroth[ctx]\n",
    "            else:\n",
    "                ctx = s[i - 2:i]\n",
    "                nxt = s[i]\n",
    "                k_mer = kth[ctx]\n",
    "                prob *= k_mer[nxt]\n",
    "\n",
    "            i += 1\n",
    "\n",
    "\n",
    "        return prob\n",
    "\n",
    "    \n",
    "if __name__ == '__main__':\n",
    "    k = 2\n",
    "    kth = context_pseudo_probabilities(\"ATGATATCATCGACGATGTAG\", k)\n",
    "    zeroth = context_pseudo_probabilities(\"ATGATATCATCGACGATGTAG\", 0)[\"\"]\n",
    "    mc = MarkovProb(2, zeroth, kth)\n",
    "    s=\"ATGATATCATCGACGATGTAG\"\n",
    "    print(f\"Probability of sequence {s} is {mc.probability(s)}\")"
   ]
  },
  {
   "cell_type": "markdown",
   "metadata": {},
   "source": [
    "### Idea of solution\n",
    "\n",
    "The function should return the product of the probabilities for each symbol defined in the zeroth (before reaching the kth element) and in the kth."
   ]
  },
  {
   "cell_type": "markdown",
   "metadata": {},
   "source": [
    "### Discussion\n",
    "\n",
    "The function seems to return the correct probability."
   ]
  },
  {
   "cell_type": "markdown",
   "metadata": {},
   "source": [
    "With the last assignment you might end up in trouble with precision, as multiplying many small probabilities gives a really small number in the end. There is an easy fix by using so-called log-transform. \n",
    "Consider computation of $P=s_1 s_2 \\cdots s_n$, where $0\\leq s_i\\leq 1$ for each $i$. Taking logarithm in base 2 from both sides gives $\\log _2 P= \\log _2 (s_1 s_2 \\cdots s_n)=\\log_2 s_1 + \\log_2 s_2 + \\cdots \\log s_n= \\sum_{i=1}^n \\log s_i$, with repeated application of the property that the logarithm of a multiplication of two numbers is the sum of logarithms of the two numbers taken separately. The results is abbreviated as log-probability.\n",
    "\n",
    "15. Write class ```MarkovLog``` that given the $k$-th order Markov chain developed above to the constructor, its method ```log_probability``` computes the log-probability of a given input DNA sequence. Run your program with $T=$ `ATGATATCATCGACGATGTAG` and $k=2$."
   ]
  },
  {
   "cell_type": "code",
   "execution_count": 17,
   "metadata": {},
   "outputs": [
    {
     "output_type": "stream",
     "name": "stdout",
     "text": "['CC', 'CG', 'CT', 'CA', 'GC', 'GG', 'GT', 'GA', 'TC', 'TG', 'TT', 'TA', 'AC', 'AG', 'AT', 'AA']\n['']\nLog probability of sequence ATGATATCATCGACGATGTAG is -18.756845399379042\n"
    }
   ],
   "source": [
    "class MarkovLog(object):\n",
    "    def __init__(self, k, zeroth, kth):\n",
    "        self.k = k\n",
    "        self.zeroth = zeroth\n",
    "        self.kth = kth\n",
    "        \n",
    "    def log_probability(self, s):\n",
    "        prob = 1\n",
    "        i = 0\n",
    "\n",
    "        while i + self.k < len(s):\n",
    "            if i < self.k:\n",
    "                ctx = s[i]\n",
    "                prob *= zeroth[ctx]\n",
    "            else:\n",
    "                ctx = s[i - 2:i]\n",
    "                nxt = s[i]\n",
    "                k_mer = kth[ctx]\n",
    "                prob *= k_mer[nxt]\n",
    "\n",
    "            i += 1\n",
    "\n",
    "\n",
    "        return np.log2(prob)\n",
    "    \n",
    "if __name__ == '__main__':\n",
    "    k = 2\n",
    "    kth = context_pseudo_probabilities(\"ATGATATCATCGACGATGTAG\", k)\n",
    "    zeroth = context_pseudo_probabilities(\"ATGATATCATCGACGATGTAG\", 0)[\"\"]\n",
    "    mc = MarkovLog(2, zeroth, kth)\n",
    "    s=\"ATGATATCATCGACGATGTAG\"\n",
    "    print(f\"Log probability of sequence {s} is {mc.log_probability(s)}\")"
   ]
  },
  {
   "cell_type": "markdown",
   "metadata": {},
   "source": [
    "### Idea of solution\n",
    "\n",
    "The function is the same as the previous, except that it now returns the base-2 log probability."
   ]
  },
  {
   "cell_type": "markdown",
   "metadata": {},
   "source": [
    "### Discussion\n",
    "\n",
    "The function returns the correct log probability, which should go from minus infinity to zero."
   ]
  },
  {
   "cell_type": "markdown",
   "metadata": {},
   "source": [
    "Finally, if you try to use the code so far for very large inputs, you might observe that the concatenation of symbols following a context occupy considerable amount of space. This is unnecessary, as we only need the frequencies. \n",
    "\n",
    "16. Optimize the space requirement of your code from exercise 13 for the $k$-th order Markov chain by replacing the concatenations by direct computations of the frequencies. Implement this as the\n",
    "  ```better_context_probabilities``` function."
   ]
  },
  {
   "cell_type": "code",
   "execution_count": 18,
   "metadata": {},
   "outputs": [
    {
     "output_type": "stream",
     "name": "stdout",
     "text": "['CC', 'CG', 'CT', 'CA', 'GC', 'GG', 'GT', 'GA', 'TC', 'TG', 'TT', 'TA', 'AC', 'AG', 'AT', 'AA']\n['C', 'G', 'T', 'A', 'A', 'C', 'G', 'T', 'A', 'T', 'C', 'G', 'T', 'A', 'C', 'G', 'T', 'A', 'A', 'T', 'C', 'A', 'G', 'A', 'T', 'C', 'G', 'T', 'A', 'T', 'G', 'G', 'C', 'G', 'T', 'A', 'G', 'A', 'C', 'C', 'G', 'T', 'A']\nC: 0.14285714285714285\nG: 0.23809523809523808\nA: 0.3333333333333333\nT: 0.2857142857142857\n"
    }
   ],
   "source": [
    "def better_context_probabilities(s, k):\n",
    "    contextes = []\n",
    "\n",
    "    concatenated = context_pseudo_probabilities(s, k)\n",
    "    for _, v in concatenated.items():\n",
    "        contextes += [ctx for ctx in v.keys()]\n",
    "\n",
    "    print(contextes)\n",
    "\n",
    "    return {ch: s.count(ch) / len(s) for ch in set(contextes)}\n",
    "\n",
    "if __name__ == '__main__':\n",
    "    k = 2\n",
    "    s = \"ATGATATCATCGACGATGTAG\"\n",
    "    d = better_context_probabilities(s, k)\n",
    "    print(\"\\n\".join(f\"{k}: {v}\" for k, v in d.items()))"
   ]
  },
  {
   "cell_type": "markdown",
   "metadata": {},
   "source": [
    "### Idea of solution\n",
    "\n",
    "The function should return the probability of a symbol from the single context probabilities."
   ]
  },
  {
   "cell_type": "markdown",
   "metadata": {},
   "source": [
    "### Discussion\n",
    "\n",
    "Results seem coherent."
   ]
  },
  {
   "cell_type": "markdown",
   "metadata": {},
   "source": [
    "While the earlier approach of explicit concatenation of symbols following a context suffered from inefficient use of space, it does have a benefit of giving another much simpler strategy to sample from the distribution: \n",
    "observe that an element of the concatenation taken uniformly randomly is sampled exactly with the correct probability. \n",
    "\n",
    "17. Revisit the solution 12 and modify it to directly sample from the concatenation of symbols following a context. The function ```np.random.choice``` may be convenient here. Implement the modified version as the new `SimpleMarkovChain` class."
   ]
  },
  {
   "cell_type": "code",
   "execution_count": 19,
   "metadata": {},
   "outputs": [
    {
     "output_type": "stream",
     "name": "stdout",
     "text": "['CC', 'CG', 'CT', 'CA', 'GC', 'GG', 'GT', 'GA', 'TC', 'TG', 'TT', 'TA', 'AC', 'AG', 'AT', 'AA']\n['C', 'G', 'T', 'A', 'A', 'C', 'G', 'T', 'A', 'T', 'C', 'G', 'T', 'A', 'C', 'G', 'T', 'A', 'A', 'T', 'C', 'A', 'G', 'A', 'T', 'C', 'G', 'T', 'A', 'T', 'G', 'G', 'C', 'G', 'T', 'A', 'G', 'A', 'C', 'C', 'G', 'T', 'A']\nCTATTAACGA\n"
    }
   ],
   "source": [
    "class SimpleMarkovChain(object):\n",
    "    def __init__(self, s, k):\n",
    "        self.s = s\n",
    "        self.k = k\n",
    "\n",
    "    def generate(self, n, seed=None):\n",
    "        np.random.seed(seed)\n",
    "\n",
    "        seq = []\n",
    "        freqs = better_context_probabilities(self.s, self.k)\n",
    "\n",
    "        input_values = np.array(list(freqs.keys()))\n",
    "        input_probs = np.array(list(freqs.values()))\n",
    "\n",
    "        return \"\".join(np.random.choice(a=input_values, size=n, p=input_probs))\n",
    "        \n",
    "if __name__ == '__main__':\n",
    "    k = 2\n",
    "    s = \"ATGATATCATCGACGATGTAG\"\n",
    "    n = 10\n",
    "    seed = 7\n",
    "    mc = SimpleMarkovChain(s, k)\n",
    "    print(mc.generate(n, seed))"
   ]
  },
  {
   "cell_type": "markdown",
   "metadata": {},
   "source": [
    "### Idea of solution\n",
    "\n",
    "Instead of concatenating, we compute the frequency of each symbol and use that to predict the sequence."
   ]
  },
  {
   "cell_type": "markdown",
   "metadata": {},
   "source": [
    "### Discussion\n",
    "\n",
    "The function seems to work well."
   ]
  },
  {
   "cell_type": "markdown",
   "metadata": {},
   "source": [
    "## $k$-mer index\n",
    "\n",
    "Our $k$-th order Markov chain can now be modified to a handy index structure called $k$-mer index. This index structure associates to each $k$-mer its list of occurrence positions in DNA sequence $T$.  Given a query $k$-mer $W$, one can thus easily list all positions $i$ with  $T[i..k-1]=W$.\n",
    "\n",
    "18. Implement function ```kmer_index``` inspired by your earlier code for the $k$-th order Markov chain. Test your program with `ATGATATCATCGACGATGTAG` and $k=2$."
   ]
  },
  {
   "cell_type": "code",
   "execution_count": 20,
   "metadata": {},
   "outputs": [
    {
     "output_type": "stream",
     "name": "stdout",
     "text": "Using string:\nATGATATCATCGACGATGTAG\n012345678901234567890\n\n2-mer index is:\n{'AT': [0, 3, 5, 8, 15], 'TG': [1, 16], 'GA': [2, 11, 14], 'TA': [4, 18], 'TC': [6, 9], 'CA': [7], 'CG': [10, 13], 'AC': [12], 'GT': [17]}\n"
    }
   ],
   "source": [
    "def kmer_index(s, k):\n",
    "    kmer_ds = {}\n",
    "    i = 0\n",
    "\n",
    "    while i + k < len(s):\n",
    "        kmer = s[i:i + k]\n",
    "        \n",
    "        if kmer not in kmer_ds.keys():\n",
    "            kmer_ds[kmer] = []\n",
    "\n",
    "        kmer_ds[kmer].append(i)\n",
    "\n",
    "        i += 1                \n",
    "\n",
    "    return kmer_ds\n",
    "\n",
    "if __name__ == '__main__':\n",
    "    k=2\n",
    "    s = \"ATGATATCATCGACGATGTAG\"\n",
    "    print(\"Using string:\")\n",
    "    print(s)\n",
    "    print(\"\".join([str(i%10) for i in range(len(s))]))\n",
    "    print(f\"\\n{k}-mer index is:\")\n",
    "    d=kmer_index(s, k)\n",
    "    print(dict(d))"
   ]
  },
  {
   "cell_type": "markdown",
   "metadata": {},
   "source": [
    "### Idea of solution\n",
    "\n",
    "The function iterates over each kmer and stores the index of each occurrence in the right dict key."
   ]
  },
  {
   "cell_type": "markdown",
   "metadata": {},
   "source": [
    "### Discussion\n",
    "\n",
    "The function returns the correct indexes for each k-mer in the test sequence."
   ]
  },
  {
   "cell_type": "markdown",
   "metadata": {},
   "source": [
    "## Comparison of probability distributions\n",
    "\n",
    "Now that we know how to learn probability distributions from data, we might want to compare two such distributions, for example, to test if our programs work as intended. \n",
    "\n",
    "Let $P=\\{p_1,p_2,\\ldots, p_n\\}$ and $Q=\\{q_1,q_2,\\ldots, q_n\\}$ be two probability distributions for the same set of $n$ events. This means $\\sum_{i=1}^n p_i=\\sum_{i=1}^n q_i=1$, $0\\leq p_j \\leq 1$, and $0\\leq q_j \\leq 1$ for each event $j$. \n",
    "\n",
    "*Kullback-Leibler divergence* is a measure $d()$ for the *relative entropy* of $P$ with respect to $Q$ defined as \n",
    "$d(P||Q)=\\sum_{i=1}^n p_i \\log\\frac{p_i}{q_i}$.\n",
    "\n",
    "\n",
    "This measure is always non-negative, and 0 only when $P=Q$. It can be interpreted as the gain of knowing $Q$ to encode $P$. Note that this measure is not symmetric.\n",
    "\n",
    "19. Write function ```kullback_leibler``` to compute $d(P||Q)$. Test your solution by generating a random RNA sequence\n",
    "  encoding the input protein sequence according to the input codon adaptation probabilities.\n",
    "  Then you should learn the codon adaptation probabilities from the RNA sequence you generated.\n",
    "  Then try the same with uniformly random RNA sequences (which don't have to encode any\n",
    "  specific protein sequence). Compute the relative entropies between the\n",
    "  three distribution (original, predicted, uniform) and you should observe a clear difference.\n",
    "  Because $d(P||Q)$ is not symmetric, you can either print both $d(P||Q)$ and $d(Q||P)$,\n",
    "  or their average.\n",
    "  \n",
    "  This problem may be fairly tricky. Only the `kullback_leibler` function is automatically tested. The codon probabilities is probably a useful helper function. The main guarded section can be completed by filling out the `pass` sections using tooling from previous parts and fixing the *placeholder* lines."
   ]
  },
  {
   "cell_type": "code",
   "execution_count": 21,
   "metadata": {},
   "outputs": [
    {
     "name": "stdout",
     "output_type": "stream",
     "text": "{'CCC': 0.0128, 'CCG': 0.009333333333333334, 'CCA': 0.0201, 'CCU': 0.014033333333333333, 'CGC': 0.0082, 'CGG': 0.0096, 'CGA': 0.011766666666666667, 'CGU': 0.0074, 'CAC': 0.017566666666666668, 'CAG': 0.019066666666666666, 'CAA': 0.0185, 'CAU': 0.0209, 'CUC': 0.010166666666666666, 'CUG': 0.021366666666666666, 'CUA': 0.013533333333333333, 'CUU': 0.012, 'GCC': 0.015166666666666667, 'GCG': 0.008466666666666667, 'GCA': 0.0175, 'GCU': 0.013966666666666667, 'GGC': 0.0158, 'GGG': 0.015633333333333332, 'GGA': 0.020066666666666667, 'GGU': 0.013966666666666667, 'GAC': 0.0177, 'GAG': 0.015433333333333334, 'GAA': 0.021766666666666667, 'GAU': 0.020133333333333333, 'GUC': 0.009933333333333334, 'GUG': 0.0207, 'GUA': 0.012366666666666666, 'GUU': 0.012266666666666667, 'ACC': 0.017566666666666668, 'ACG': 0.010933333333333333, 'ACA': 0.0205, 'ACU': 0.015866666666666668, 'AGC': 0.013233333333333333, 'AGG': 0.013466666666666667, 'AGA': 0.019233333333333335, 'AGU': 0.014366666666666666, 'AAC': 0.016033333333333333, 'AAG': 0.0171, 'AAA': 0.019466666666666667, 'AAU': 0.020033333333333334, 'AUC': 0.0159, 'AUG': 0.0291, 'AUA': 0.015, 'AUU': 0.017233333333333333, 'UCC': 0.010733333333333333, 'UCG': 0.008233333333333334, 'UCA': 0.017933333333333332, 'UCU': 0.0132, 'UGC': 0.017866666666666666, 'UGG': 0.026766666666666668, 'UGA': 0.023933333333333334, 'UGU': 0.019533333333333333, 'UAC': 0.013566666666666666, 'UAG': 0.0087, 'UAA': 0.0129, 'UAU': 0.016166666666666666, 'UUC': 0.0141, 'UUG': 0.016966666666666668, 'UUA': 0.010433333333333333, 'UUU': 0.016633333333333333}\n{'CCC': 0.013833333333333333, 'CCG': 0.008933333333333333, 'CCA': 0.020066666666666667, 'CCU': 0.013566666666666666, 'CGC': 0.007533333333333334, 'CGG': 0.0094, 'CGA': 0.012966666666666666, 'CGU': 0.007466666666666667, 'CAC': 0.017, 'CAG': 0.0188, 'CAA': 0.018033333333333332, 'CAU': 0.020966666666666668, 'CUC': 0.008933333333333333, 'CUG': 0.022966666666666666, 'CUA': 0.0125, 'CUU': 0.0114, 'GCC': 0.0143, 'GCG': 0.008833333333333334, 'GCA': 0.017366666666666666, 'GCU': 0.013866666666666666, 'GGC': 0.0151, 'GGG': 0.016133333333333333, 'GGA': 0.021466666666666665, 'GGU': 0.014333333333333333, 'GAC': 0.016933333333333335, 'GAG': 0.016666666666666666, 'GAA': 0.0203, 'GAU': 0.0221, 'GUC': 0.010633333333333333, 'GUG': 0.021033333333333334, 'GUA': 0.012133333333333333, 'GUU': 0.012233333333333334, 'ACC': 0.016466666666666668, 'ACG': 0.011333333333333334, 'ACA': 0.0194, 'ACU': 0.0157, 'AGC': 0.013866666666666666, 'AGG': 0.0142, 'AGA': 0.0178, 'AGU': 0.015333333333333332, 'AAC': 0.015733333333333332, 'AAG': 0.016666666666666666, 'AAA': 0.019266666666666668, 'AAU': 0.019966666666666667, 'AUC': 0.0164, 'AUG': 0.029633333333333334, 'AUA': 0.016033333333333333, 'AUU': 0.0172, 'UCC': 0.0118, 'UCG': 0.008266666666666667, 'UCA': 0.017966666666666666, 'UCU': 0.012666666666666666, 'UGC': 0.017866666666666666, 'UGG': 0.0273, 'UGA': 0.023733333333333332, 'UGU': 0.0189, 'UAC': 0.013233333333333333, 'UAG': 0.009066666666666667, 'UAA': 0.014033333333333333, 'UAU': 0.016233333333333332, 'UUC': 0.014733333333333333, 'UUG': 0.0142, 'UUA': 0.0119, 'UUU': 0.0152}\nd(original || predicted) = 65.89749769357132\nd(predicted || original) = -2.9425585854573866\n\nd(original || uniform) = 65.89678113749517\nd(uniform || original) = -2.9427576986634505\n\nd(predicted || uniform) = 0.0015173366466503366\nd(uniform || predicted) = 0.0015094370425018516\n"
    }
   ],
   "source": [
    "def codon_probabilities(rna):\n",
    "    \"\"\"\n",
    "    Given an RNA sequence, simply calculates the proability of\n",
    "    all 3-mers empirically based on the sequence\n",
    "    \"\"\"\n",
    "    c_probs = {}\n",
    "\n",
    "    for codon in product(set(rna), repeat=3):\n",
    "        c_seq = \"\".join(codon)\n",
    "        if c_seq in rna[:-1]:\n",
    "            kmer = kmer_index(rna, 3)\n",
    "            c_probs[c_seq] = len(kmer[c_seq]) / len(rna)\n",
    "        else: \n",
    "            c_probs[c_seq] = 0 \n",
    "\n",
    "    print(c_probs)\n",
    "\n",
    "    return c_probs\n",
    "    \n",
    "def kullback_leibler(p, q):\n",
    "    \"\"\"\n",
    "    Computes Kullback-Leibler divergence between two distributions.\n",
    "    Both p and q must be dictionaries from events to probabilities.\n",
    "    The divergence is defined only when q[event] == 0 implies p[event] == 0.\n",
    "    \"\"\"\n",
    "    return np.sum(np.array([p[x] * np.log(p[x] / q[x]) for x in p.keys()])) if 0 not in [q[x] for x in p.keys()] else np.inf\n",
    "\n",
    "if __name__ == '__main__':\n",
    "    aas = list(\"*ACDEFGHIKLMNPQRSTVWY\") # List of amino acids\n",
    "    n = 10000\n",
    "    \n",
    "    # generate a random protein and some associated rna\n",
    "    protein = \"\".join(choice(aas, n))    \n",
    "    rna = ProteinToRandomRNA().convert(protein)\n",
    "    \n",
    "    # Maybe check that converting back to protein results in the same sequence\n",
    "    assert rna_to_prot(rna) == protein\n",
    "    \n",
    "    # Calculate codon probabilities of the rna sequence\n",
    "    cp_predicted = codon_probabilities(rna) # placeholder call\n",
    "    \n",
    "    # Calculate codon probabilities based on the codon usage table\n",
    "    cp_orig = {}\n",
    "    i = 0\n",
    "    table_probs = get_probability_dict()\n",
    "\n",
    "    while i + 3 < len(rna):\n",
    "        kmer = rna[i:i + 3]\n",
    "        cp_orig[kmer] = table_probs[kmer]\n",
    "\n",
    "        i += 1\n",
    "    \n",
    "    # Create a completely random RNA sequence and get the codon probabilities\n",
    "    rand_rna = ProteinToRandomRNA().convert(protein)\n",
    "    cp_uniform = codon_probabilities(rand_rna) # placeholder call\n",
    "    \n",
    "    print(\"d(original || predicted) =\", kullback_leibler(cp_orig, cp_predicted))\n",
    "    print(\"d(predicted || original) =\", kullback_leibler(cp_predicted, cp_orig))\n",
    "    print()\n",
    "    print(\"d(original || uniform) =\", kullback_leibler(cp_orig, cp_uniform))\n",
    "    print(\"d(uniform || original) =\", kullback_leibler(cp_uniform, cp_orig))\n",
    "    print()\n",
    "    print(\"d(predicted || uniform) =\", kullback_leibler(cp_predicted, cp_uniform))\n",
    "    print(\"d(uniform || predicted) =\", kullback_leibler(cp_uniform, cp_predicted))"
   ]
  },
  {
   "cell_type": "markdown",
   "metadata": {},
   "source": [
    "### Idea of solution\n",
    "\n",
    "The function `codon_probabilities()` computes the probabilities of each codon based on their frequencies inside the sequence. The KL function is just the implementation of the KL entropy criterion."
   ]
  },
  {
   "cell_type": "markdown",
   "metadata": {},
   "source": [
    "### Discussion\n",
    "\n",
    "We generated a random RNAs from the same protein. We can see that the probability distribution that better approximates the original distribution is the uniform one."
   ]
  },
  {
   "cell_type": "markdown",
   "metadata": {},
   "source": [
    "## Stationary and equilibrium distributions (extra)\n",
    "\n",
    "Let us consider a Markov chain of order one on the set of nucleotides.\n",
    "Its transition probabilities can be expressed as a $4 \\times 4$ matrix\n",
    "$P=(p_{ij})$, where the element $p_{ij}$ gives the probability of the $j$th nucleotide\n",
    "on the condition the previous nucleotide was the $i$th. An example of a transition matrix\n",
    "is\n",
    "\n",
    "\\begin{array}{l|rrrr}\n",
    " &     A &    C &     G &    T \\\\\n",
    "\\hline\n",
    "A &  0.30 &  0.0 &  0.70 &  0.0 \\\\\n",
    "C &  0.00 &  0.4 &  0.00 &  0.6 \\\\\n",
    "G &  0.35 &  0.0 &  0.65 &  0.0 \\\\\n",
    "T &  0.00 &  0.2 &  0.00 &  0.8 \\\\\n",
    "\\end{array}.\n",
    "\n",
    "A distribution $\\pi=(\\pi_1,\\pi_2,\\pi_3,\\pi_4)$ is called *stationary*, if\n",
    "$\\pi = \\pi P$ (the product here is matrix product).\n",
    "\n",
    "20. Write function ```get_stationary_distributions``` that gets a transition matrix as parameter,\n",
    "  and returns the list of stationary distributions. You can do this with NumPy by\n",
    "  first taking transposition of both sides of the above equation to get equation\n",
    "  $\\pi^T = P^T \\pi^T$. Using numpy.linalg.eig take all eigenvectors related to\n",
    "  eigenvalue 1.0. By normalizing these vectors to sum up to one get the stationary distributions\n",
    "  of the original transition matrix. In the ```main``` function print the stationary distributions\n",
    "  of the above transition matrix."
   ]
  },
  {
   "cell_type": "code",
   "execution_count": 22,
   "metadata": {},
   "outputs": [
    {
     "name": "stdout",
     "output_type": "stream",
     "text": "[0.335 0.    0.665 0.   ]\n"
    },
    {
     "ename": "LinAlgError",
     "evalue": "1-dimensional array given. Array must be at least two-dimensional",
     "output_type": "error",
     "traceback": [
      "\u001b[0;31m---------------------------------------------------------------------------\u001b[0m",
      "\u001b[0;31mLinAlgError\u001b[0m                               Traceback (most recent call last)",
      "\u001b[0;32m<ipython-input-22-b05bbe914a61>\u001b[0m in \u001b[0;36m<module>\u001b[0;34m\u001b[0m\n\u001b[1;32m     32\u001b[0m             \u001b[0;34mf\"{pv:+.3f}\"\u001b[0m\u001b[0;34m\u001b[0m\u001b[0;34m\u001b[0m\u001b[0m\n\u001b[1;32m     33\u001b[0m             for pv in p) \n\u001b[0;32m---> 34\u001b[0;31m         for p in get_stationary_distributions(transition)))\n\u001b[0m",
      "\u001b[0;32m<ipython-input-22-b05bbe914a61>\u001b[0m in \u001b[0;36mget_stationary_distributions\u001b[0;34m(transition)\u001b[0m\n\u001b[1;32m     14\u001b[0m         \u001b[0mprint\u001b[0m\u001b[0;34m(\u001b[0m\u001b[0mnp\u001b[0m\u001b[0;34m.\u001b[0m\u001b[0mmatmul\u001b[0m\u001b[0;34m(\u001b[0m\u001b[0mt_tran\u001b[0m\u001b[0;34m,\u001b[0m \u001b[0mt_dist\u001b[0m\u001b[0;34m)\u001b[0m\u001b[0;34m)\u001b[0m\u001b[0;34m\u001b[0m\u001b[0;34m\u001b[0m\u001b[0m\n\u001b[1;32m     15\u001b[0m \u001b[0;34m\u001b[0m\u001b[0m\n\u001b[0;32m---> 16\u001b[0;31m         \u001b[0mw\u001b[0m\u001b[0;34m,\u001b[0m \u001b[0mv\u001b[0m \u001b[0;34m=\u001b[0m \u001b[0mnp\u001b[0m\u001b[0;34m.\u001b[0m\u001b[0mlinalg\u001b[0m\u001b[0;34m.\u001b[0m\u001b[0meig\u001b[0m\u001b[0;34m(\u001b[0m\u001b[0mnp\u001b[0m\u001b[0;34m.\u001b[0m\u001b[0mmatmul\u001b[0m\u001b[0;34m(\u001b[0m\u001b[0mt_tran\u001b[0m\u001b[0;34m,\u001b[0m \u001b[0mt_dist\u001b[0m\u001b[0;34m)\u001b[0m\u001b[0;34m)\u001b[0m\u001b[0;34m\u001b[0m\u001b[0;34m\u001b[0m\u001b[0m\n\u001b[0m\u001b[1;32m     17\u001b[0m \u001b[0;34m\u001b[0m\u001b[0m\n\u001b[1;32m     18\u001b[0m         \u001b[0midx\u001b[0m \u001b[0;34m=\u001b[0m \u001b[0mnp\u001b[0m\u001b[0;34m.\u001b[0m\u001b[0mwhere\u001b[0m\u001b[0;34m(\u001b[0m\u001b[0mv\u001b[0m \u001b[0;34m==\u001b[0m \u001b[0;36m1\u001b[0m\u001b[0;34m)\u001b[0m\u001b[0;34m[\u001b[0m\u001b[0;36m0\u001b[0m\u001b[0;34m]\u001b[0m\u001b[0;34m\u001b[0m\u001b[0;34m\u001b[0m\u001b[0m\n",
      "\u001b[0;32m<__array_function__ internals>\u001b[0m in \u001b[0;36meig\u001b[0;34m(*args, **kwargs)\u001b[0m\n",
      "\u001b[0;32m~/anaconda3/lib/python3.7/site-packages/numpy/linalg/linalg.py\u001b[0m in \u001b[0;36meig\u001b[0;34m(a)\u001b[0m\n\u001b[1;32m   1291\u001b[0m     \"\"\"\n\u001b[1;32m   1292\u001b[0m     \u001b[0ma\u001b[0m\u001b[0;34m,\u001b[0m \u001b[0mwrap\u001b[0m \u001b[0;34m=\u001b[0m \u001b[0m_makearray\u001b[0m\u001b[0;34m(\u001b[0m\u001b[0ma\u001b[0m\u001b[0;34m)\u001b[0m\u001b[0;34m\u001b[0m\u001b[0;34m\u001b[0m\u001b[0m\n\u001b[0;32m-> 1293\u001b[0;31m     \u001b[0m_assert_stacked_2d\u001b[0m\u001b[0;34m(\u001b[0m\u001b[0ma\u001b[0m\u001b[0;34m)\u001b[0m\u001b[0;34m\u001b[0m\u001b[0;34m\u001b[0m\u001b[0m\n\u001b[0m\u001b[1;32m   1294\u001b[0m     \u001b[0m_assert_stacked_square\u001b[0m\u001b[0;34m(\u001b[0m\u001b[0ma\u001b[0m\u001b[0;34m)\u001b[0m\u001b[0;34m\u001b[0m\u001b[0;34m\u001b[0m\u001b[0m\n\u001b[1;32m   1295\u001b[0m     \u001b[0m_assert_finite\u001b[0m\u001b[0;34m(\u001b[0m\u001b[0ma\u001b[0m\u001b[0;34m)\u001b[0m\u001b[0;34m\u001b[0m\u001b[0;34m\u001b[0m\u001b[0m\n",
      "\u001b[0;32m~/anaconda3/lib/python3.7/site-packages/numpy/linalg/linalg.py\u001b[0m in \u001b[0;36m_assert_stacked_2d\u001b[0;34m(*arrays)\u001b[0m\n\u001b[1;32m    205\u001b[0m         \u001b[0;32mif\u001b[0m \u001b[0ma\u001b[0m\u001b[0;34m.\u001b[0m\u001b[0mndim\u001b[0m \u001b[0;34m<\u001b[0m \u001b[0;36m2\u001b[0m\u001b[0;34m:\u001b[0m\u001b[0;34m\u001b[0m\u001b[0;34m\u001b[0m\u001b[0m\n\u001b[1;32m    206\u001b[0m             raise LinAlgError('%d-dimensional array given. Array must be '\n\u001b[0;32m--> 207\u001b[0;31m                     'at least two-dimensional' % a.ndim)\n\u001b[0m\u001b[1;32m    208\u001b[0m \u001b[0;34m\u001b[0m\u001b[0m\n\u001b[1;32m    209\u001b[0m \u001b[0;32mdef\u001b[0m \u001b[0m_assert_stacked_square\u001b[0m\u001b[0;34m(\u001b[0m\u001b[0;34m*\u001b[0m\u001b[0marrays\u001b[0m\u001b[0;34m)\u001b[0m\u001b[0;34m:\u001b[0m\u001b[0;34m\u001b[0m\u001b[0;34m\u001b[0m\u001b[0m\n",
      "\u001b[0;31mLinAlgError\u001b[0m: 1-dimensional array given. Array must be at least two-dimensional"
     ]
    }
   ],
   "source": [
    "from sklearn.preprocessing import normalize\n",
    "\n",
    "def get_stationary_distributions(transition):\n",
    "    \"\"\"\n",
    "    The function get a transition matrix of a degree one Markov chain as parameter.\n",
    "    It returns a list of stationary distributions, in vector form, for that chain.\n",
    "    \"\"\"\n",
    "    stat_dist = []\n",
    "    \n",
    "    for dist in transition:\n",
    "        t_dist = dist.T \n",
    "        t_tran = transition.T \n",
    "\n",
    "        print(np.matmul(t_tran, t_dist))\n",
    "\n",
    "        w, v = np.linalg.eig(np.matmul(t_tran, t_dist))\n",
    "\n",
    "        idx = np.where(v == 1)[0]\n",
    "\n",
    "        print(idx)\n",
    "\n",
    "    return 0\n",
    "    \n",
    "    \n",
    "if __name__ == \"__main__\":\n",
    "    transition=np.array([[0.3, 0, 0.7, 0],\n",
    "                         [0, 0.4, 0, 0.6],\n",
    "                         [0.35, 0, 0.65, 0],\n",
    "                         [0, 0.2, 0, 0.8]])\n",
    "    print(\"\\n\".join(\n",
    "        \", \".join(\n",
    "            f\"{pv:+.3f}\"\n",
    "            for pv in p) \n",
    "        for p in get_stationary_distributions(transition)))"
   ]
  },
  {
   "cell_type": "markdown",
   "metadata": {},
   "source": [
    "### Idea of solution\n"
   ]
  },
  {
   "cell_type": "markdown",
   "metadata": {},
   "source": [
    "### Discussion\n"
   ]
  },
  {
   "cell_type": "markdown",
   "metadata": {},
   "source": [
    "21. Implement the `kl_divergence` function below so that the main guarded code runs properly. Using your modified Markov chain generator generate a nucleotide sequence $s$ of length $10\\;000$. Choose prefixes of $s$ of lengths $1, 10, 100, 1000$, and $10\\;000$. For each of these prefixes find out their nucleotide distribution (of order 0) using your earlier tool. Use 1 as the pseudo count. Then, for each prefix, compute the KL divergence between the initial distribution and the normalized nucleotide distribution."
   ]
  },
  {
   "cell_type": "code",
   "execution_count": null,
   "metadata": {},
   "outputs": [],
   "source": [
    "def kl_divergences(initial, transition):\n",
    "    \"\"\"\n",
    "    Calculates the the Kullback-Leibler divergences between empirical distributions\n",
    "    generated using a markov model seeded with an initial distributin and a transition \n",
    "    matrix, and the initial distribution.\n",
    "    Sequences of length [1, 10, 100, 1000, 10000] are generated.\n",
    "    \"\"\"\n",
    "    return zip([1, 10, 100, 1000, 10000], np.random.rand(5))\n",
    "\n",
    "if __name__ == \"__main__\":\n",
    "    transition=np.array([[0.3, 0, 0.7, 0],\n",
    "                         [0, 0.4, 0, 0.6],\n",
    "                         [0.35, 0, 0.65, 0],\n",
    "                         [0, 0.2, 0, 0.8]])\n",
    "    print(\"Transition probabilities are:\")\n",
    "    print(transition)\n",
    "    stationary_distributions = get_stationary_distributions(transition)\n",
    "    print(\"Stationary distributions:\")\n",
    "    print(np.stack(stationary_distributions))\n",
    "    initial = stationary_distributions[1]\n",
    "    print(\"Using [{}] as initial distribution\\n\".format(\", \".join(f\"{v:.2f}\" for v in initial)))\n",
    "    results = kl_divergences(initial, transition)\n",
    "    for prefix_length, divergence in results: # iterate on prefix lengths in order (1, 10, 100...)\n",
    "        print(\"KL divergence of stationary distribution prefix \" \\\n",
    "              \"of length {:5d} is {:.8f}\".format(prefix_length, divergence))"
   ]
  },
  {
   "cell_type": "markdown",
   "metadata": {},
   "source": [
    "### Idea of solution\n",
    "\n",
    "fill in"
   ]
  },
  {
   "cell_type": "markdown",
   "metadata": {},
   "source": [
    "### Discussion\n",
    "fill in"
   ]
  },
  {
   "cell_type": "markdown",
   "metadata": {},
   "source": [
    "22. Implement the following in the ```main``` function.\n",
    "Find the stationary distribution for the following transition matrix:  \n",
    "\n",
    "\\begin{array}{ l | r r r r}\n",
    " & A &     C &     G &     T \\\\\n",
    "\\hline\n",
    "A &  0.30 &  0.10 &  0.50 &  0.10 \\\\\n",
    "C &  0.20 &  0.30 &  0.15 &  0.35 \\\\\n",
    "G &  0.25 &  0.15 &  0.20 &  0.40 \\\\\n",
    "T &  0.35 &  0.20 &  0.40 &  0.05 \\\\\n",
    "\\end{array}\n",
    "\n",
    "Since there is only one stationary distribution, it is called the *equilibrium distribution*.\n",
    "Choose randomly two nucleotide distributions. You can take these from your sleeve or\n",
    "sample them from the Dirichlet distribution. Then for each of these distributions\n",
    "as the initial distribution of the Markov chain, repeat the above experiment.\n",
    "\n",
    "The `main` function should return tuples, where the first element is the (random) initial distribution and the second element contains the results as a list of tuples where the first element is the kl divergence and the second element the empirical nucleotide distribution, for the different prefix lengths.\n",
    "\n",
    "The state distribution should converge to the equilibrium distribution no matter how we\n",
    "start the Markov chain! That is the last line of the tables should have KL-divergence very close to $0$ and an empirical distribution very close to the equilibrium distribution.\n"
   ]
  },
  {
   "cell_type": "code",
   "execution_count": null,
   "metadata": {
    "ExecuteTime": {
     "end_time": "2019-07-08T22:04:23.681300Z",
     "start_time": "2019-07-08T22:04:23.657345Z"
    }
   },
   "outputs": [],
   "source": [
    "def main(transition, equilibrium_distribution):\n",
    "    vals = list(zip(np.random.rand(10), np.random.rand(10, 4) - 0.5))\n",
    "    return zip(np.random.rand(2, 4) - 0.5, \n",
    "               [vals[:5], vals[5:]])\n",
    "\n",
    "\n",
    "if __name__ == \"__main__\":\n",
    "    transition = np.array([[0.3, 0.1, 0.5, 0.1],\n",
    "                           [0.2, 0.3, 0.15, 0.35],\n",
    "                           [0.25, 0.15, 0.2, 0.4],\n",
    "                           [0.35, 0.2, 0.4, 0.05]])\n",
    "    print(\"Transition probabilities are:\", transition, sep=\"\\n\")\n",
    "    stationary_distributions = get_stationary_distributions(transition)\n",
    "    # Uncomment the below line to check that there actually is only one stationary distribution\n",
    "    # assert len(stationary_distributions) == 1\n",
    "    equilibrium_distribution = stationary_distributions[0]\n",
    "    print(\"Equilibrium distribution:\")\n",
    "    print(equilibrium_distribution)\n",
    "    for initial_distribution, results in main(transition, equilibrium_distribution):\n",
    "        print(\"\\nUsing {} as initial distribution:\".format(initial_distribution))\n",
    "        print(\"kl-divergence   empirical distribution\")\n",
    "        print(\"\\n\".join(\"{:.11f}   {}\".format(di, kl) for di, kl in results))"
   ]
  },
  {
   "cell_type": "markdown",
   "metadata": {},
   "source": [
    "### Idea of solution\n",
    "\n",
    "fill in"
   ]
  },
  {
   "cell_type": "markdown",
   "metadata": {},
   "source": [
    "### Discussion\n",
    "fill in"
   ]
  }
 ],
 "metadata": {
  "kernelspec": {
   "display_name": "Python 3",
   "language": "python",
   "name": "python3"
  },
  "language_info": {
   "codemirror_mode": {
    "name": "ipython",
    "version": 3
   },
   "file_extension": ".py",
   "mimetype": "text/x-python",
   "name": "python",
   "nbconvert_exporter": "python",
   "pygments_lexer": "ipython3",
   "version": "3.7.6-final"
  },
  "varInspector": {
   "cols": {
    "lenName": 16,
    "lenType": 16,
    "lenVar": 40
   },
   "kernels_config": {
    "python": {
     "delete_cmd_postfix": "",
     "delete_cmd_prefix": "del ",
     "library": "var_list.py",
     "varRefreshCmd": "print(var_dic_list())"
    },
    "r": {
     "delete_cmd_postfix": ") ",
     "delete_cmd_prefix": "rm(",
     "library": "var_list.r",
     "varRefreshCmd": "cat(var_dic_list()) "
    }
   },
   "position": {
    "height": "598.85px",
    "left": "1223px",
    "right": "20px",
    "top": "121px",
    "width": "353px"
   },
   "types_to_exclude": [
    "module",
    "function",
    "builtin_function_or_method",
    "instance",
    "_Feature"
   ],
   "window_display": false
  }
 },
 "nbformat": 4,
 "nbformat_minor": 2
}